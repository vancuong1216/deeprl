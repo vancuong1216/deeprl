{
  "cells": [
    {
      "cell_type": "markdown",
      "metadata": {
        "id": "view-in-github",
        "colab_type": "text"
      },
      "source": [
        "<a href=\"https://colab.research.google.com/github/vancuong1216/deeprl/blob/main/Copy_of_naive_bayes.ipynb\" target=\"_parent\"><img src=\"https://colab.research.google.com/assets/colab-badge.svg\" alt=\"Open In Colab\"/></a>"
      ]
    },
    {
      "cell_type": "markdown",
      "metadata": {
        "id": "EOpua7Y4y9K4"
      },
      "source": [
        "The following additional libraries are needed to run this\n",
        "notebook. Note that running on Colab is experimental, please report a Github\n",
        "issue if you have any problem."
      ]
    },
    {
      "cell_type": "code",
      "execution_count": 10,
      "metadata": {
        "id": "-DcS6zQwy9K8",
        "colab": {
          "base_uri": "https://localhost:8080/"
        },
        "outputId": "73103bdb-51cb-4a89-af63-e0008d4e831f"
      },
      "outputs": [
        {
          "output_type": "stream",
          "name": "stdout",
          "text": [
            "Requirement already satisfied: d2l==0.17.5 in /usr/local/lib/python3.7/dist-packages (0.17.5)\n",
            "Requirement already satisfied: matplotlib==3.5.1 in /usr/local/lib/python3.7/dist-packages (from d2l==0.17.5) (3.5.1)\n",
            "Requirement already satisfied: jupyter==1.0.0 in /usr/local/lib/python3.7/dist-packages (from d2l==0.17.5) (1.0.0)\n",
            "Requirement already satisfied: requests==2.25.1 in /usr/local/lib/python3.7/dist-packages (from d2l==0.17.5) (2.25.1)\n",
            "Requirement already satisfied: pandas==1.2.4 in /usr/local/lib/python3.7/dist-packages (from d2l==0.17.5) (1.2.4)\n",
            "Requirement already satisfied: numpy==1.21.5 in /usr/local/lib/python3.7/dist-packages (from d2l==0.17.5) (1.21.5)\n",
            "Requirement already satisfied: nbconvert in /usr/local/lib/python3.7/dist-packages (from jupyter==1.0.0->d2l==0.17.5) (5.6.1)\n",
            "Requirement already satisfied: ipywidgets in /usr/local/lib/python3.7/dist-packages (from jupyter==1.0.0->d2l==0.17.5) (7.7.0)\n",
            "Requirement already satisfied: ipykernel in /usr/local/lib/python3.7/dist-packages (from jupyter==1.0.0->d2l==0.17.5) (4.10.1)\n",
            "Requirement already satisfied: notebook in /usr/local/lib/python3.7/dist-packages (from jupyter==1.0.0->d2l==0.17.5) (5.3.1)\n",
            "Requirement already satisfied: jupyter-console in /usr/local/lib/python3.7/dist-packages (from jupyter==1.0.0->d2l==0.17.5) (5.2.0)\n",
            "Requirement already satisfied: qtconsole in /usr/local/lib/python3.7/dist-packages (from jupyter==1.0.0->d2l==0.17.5) (5.3.0)\n",
            "Requirement already satisfied: pyparsing>=2.2.1 in /usr/local/lib/python3.7/dist-packages (from matplotlib==3.5.1->d2l==0.17.5) (3.0.9)\n",
            "Requirement already satisfied: cycler>=0.10 in /usr/local/lib/python3.7/dist-packages (from matplotlib==3.5.1->d2l==0.17.5) (0.11.0)\n",
            "Requirement already satisfied: fonttools>=4.22.0 in /usr/local/lib/python3.7/dist-packages (from matplotlib==3.5.1->d2l==0.17.5) (4.33.3)\n",
            "Requirement already satisfied: kiwisolver>=1.0.1 in /usr/local/lib/python3.7/dist-packages (from matplotlib==3.5.1->d2l==0.17.5) (1.4.2)\n",
            "Requirement already satisfied: packaging>=20.0 in /usr/local/lib/python3.7/dist-packages (from matplotlib==3.5.1->d2l==0.17.5) (21.3)\n",
            "Requirement already satisfied: python-dateutil>=2.7 in /usr/local/lib/python3.7/dist-packages (from matplotlib==3.5.1->d2l==0.17.5) (2.8.2)\n",
            "Requirement already satisfied: pillow>=6.2.0 in /usr/local/lib/python3.7/dist-packages (from matplotlib==3.5.1->d2l==0.17.5) (7.1.2)\n",
            "Requirement already satisfied: pytz>=2017.3 in /usr/local/lib/python3.7/dist-packages (from pandas==1.2.4->d2l==0.17.5) (2022.1)\n",
            "Requirement already satisfied: idna<3,>=2.5 in /usr/local/lib/python3.7/dist-packages (from requests==2.25.1->d2l==0.17.5) (2.10)\n",
            "Requirement already satisfied: chardet<5,>=3.0.2 in /usr/local/lib/python3.7/dist-packages (from requests==2.25.1->d2l==0.17.5) (3.0.4)\n",
            "Requirement already satisfied: certifi>=2017.4.17 in /usr/local/lib/python3.7/dist-packages (from requests==2.25.1->d2l==0.17.5) (2021.10.8)\n",
            "Requirement already satisfied: urllib3<1.27,>=1.21.1 in /usr/local/lib/python3.7/dist-packages (from requests==2.25.1->d2l==0.17.5) (1.24.3)\n",
            "Requirement already satisfied: typing-extensions in /usr/local/lib/python3.7/dist-packages (from kiwisolver>=1.0.1->matplotlib==3.5.1->d2l==0.17.5) (4.2.0)\n",
            "Requirement already satisfied: six>=1.5 in /usr/local/lib/python3.7/dist-packages (from python-dateutil>=2.7->matplotlib==3.5.1->d2l==0.17.5) (1.15.0)\n",
            "Requirement already satisfied: ipython>=4.0.0 in /usr/local/lib/python3.7/dist-packages (from ipykernel->jupyter==1.0.0->d2l==0.17.5) (5.5.0)\n",
            "Requirement already satisfied: jupyter-client in /usr/local/lib/python3.7/dist-packages (from ipykernel->jupyter==1.0.0->d2l==0.17.5) (5.3.5)\n",
            "Requirement already satisfied: tornado>=4.0 in /usr/local/lib/python3.7/dist-packages (from ipykernel->jupyter==1.0.0->d2l==0.17.5) (5.1.1)\n",
            "Requirement already satisfied: traitlets>=4.1.0 in /usr/local/lib/python3.7/dist-packages (from ipykernel->jupyter==1.0.0->d2l==0.17.5) (5.1.1)\n",
            "Requirement already satisfied: setuptools>=18.5 in /usr/local/lib/python3.7/dist-packages (from ipython>=4.0.0->ipykernel->jupyter==1.0.0->d2l==0.17.5) (57.4.0)\n",
            "Requirement already satisfied: simplegeneric>0.8 in /usr/local/lib/python3.7/dist-packages (from ipython>=4.0.0->ipykernel->jupyter==1.0.0->d2l==0.17.5) (0.8.1)\n",
            "Requirement already satisfied: pexpect in /usr/local/lib/python3.7/dist-packages (from ipython>=4.0.0->ipykernel->jupyter==1.0.0->d2l==0.17.5) (4.8.0)\n",
            "Requirement already satisfied: decorator in /usr/local/lib/python3.7/dist-packages (from ipython>=4.0.0->ipykernel->jupyter==1.0.0->d2l==0.17.5) (4.4.2)\n",
            "Requirement already satisfied: pickleshare in /usr/local/lib/python3.7/dist-packages (from ipython>=4.0.0->ipykernel->jupyter==1.0.0->d2l==0.17.5) (0.7.5)\n",
            "Requirement already satisfied: pygments in /usr/local/lib/python3.7/dist-packages (from ipython>=4.0.0->ipykernel->jupyter==1.0.0->d2l==0.17.5) (2.6.1)\n",
            "Requirement already satisfied: prompt-toolkit<2.0.0,>=1.0.4 in /usr/local/lib/python3.7/dist-packages (from ipython>=4.0.0->ipykernel->jupyter==1.0.0->d2l==0.17.5) (1.0.18)\n",
            "Requirement already satisfied: wcwidth in /usr/local/lib/python3.7/dist-packages (from prompt-toolkit<2.0.0,>=1.0.4->ipython>=4.0.0->ipykernel->jupyter==1.0.0->d2l==0.17.5) (0.2.5)\n",
            "Requirement already satisfied: widgetsnbextension~=3.6.0 in /usr/local/lib/python3.7/dist-packages (from ipywidgets->jupyter==1.0.0->d2l==0.17.5) (3.6.0)\n",
            "Requirement already satisfied: jupyterlab-widgets>=1.0.0 in /usr/local/lib/python3.7/dist-packages (from ipywidgets->jupyter==1.0.0->d2l==0.17.5) (1.1.0)\n",
            "Requirement already satisfied: ipython-genutils~=0.2.0 in /usr/local/lib/python3.7/dist-packages (from ipywidgets->jupyter==1.0.0->d2l==0.17.5) (0.2.0)\n",
            "Requirement already satisfied: nbformat>=4.2.0 in /usr/local/lib/python3.7/dist-packages (from ipywidgets->jupyter==1.0.0->d2l==0.17.5) (5.4.0)\n",
            "Requirement already satisfied: jsonschema>=2.6 in /usr/local/lib/python3.7/dist-packages (from nbformat>=4.2.0->ipywidgets->jupyter==1.0.0->d2l==0.17.5) (4.3.3)\n",
            "Requirement already satisfied: fastjsonschema in /usr/local/lib/python3.7/dist-packages (from nbformat>=4.2.0->ipywidgets->jupyter==1.0.0->d2l==0.17.5) (2.15.3)\n",
            "Requirement already satisfied: jupyter-core in /usr/local/lib/python3.7/dist-packages (from nbformat>=4.2.0->ipywidgets->jupyter==1.0.0->d2l==0.17.5) (4.10.0)\n",
            "Requirement already satisfied: importlib-resources>=1.4.0 in /usr/local/lib/python3.7/dist-packages (from jsonschema>=2.6->nbformat>=4.2.0->ipywidgets->jupyter==1.0.0->d2l==0.17.5) (5.7.1)\n",
            "Requirement already satisfied: pyrsistent!=0.17.0,!=0.17.1,!=0.17.2,>=0.14.0 in /usr/local/lib/python3.7/dist-packages (from jsonschema>=2.6->nbformat>=4.2.0->ipywidgets->jupyter==1.0.0->d2l==0.17.5) (0.18.1)\n",
            "Requirement already satisfied: attrs>=17.4.0 in /usr/local/lib/python3.7/dist-packages (from jsonschema>=2.6->nbformat>=4.2.0->ipywidgets->jupyter==1.0.0->d2l==0.17.5) (21.4.0)\n",
            "Requirement already satisfied: importlib-metadata in /usr/local/lib/python3.7/dist-packages (from jsonschema>=2.6->nbformat>=4.2.0->ipywidgets->jupyter==1.0.0->d2l==0.17.5) (4.11.3)\n",
            "Requirement already satisfied: zipp>=3.1.0 in /usr/local/lib/python3.7/dist-packages (from importlib-resources>=1.4.0->jsonschema>=2.6->nbformat>=4.2.0->ipywidgets->jupyter==1.0.0->d2l==0.17.5) (3.8.0)\n",
            "Requirement already satisfied: jinja2 in /usr/local/lib/python3.7/dist-packages (from notebook->jupyter==1.0.0->d2l==0.17.5) (2.11.3)\n",
            "Requirement already satisfied: terminado>=0.8.1 in /usr/local/lib/python3.7/dist-packages (from notebook->jupyter==1.0.0->d2l==0.17.5) (0.13.3)\n",
            "Requirement already satisfied: Send2Trash in /usr/local/lib/python3.7/dist-packages (from notebook->jupyter==1.0.0->d2l==0.17.5) (1.8.0)\n",
            "Requirement already satisfied: pyzmq>=13 in /usr/local/lib/python3.7/dist-packages (from jupyter-client->ipykernel->jupyter==1.0.0->d2l==0.17.5) (22.3.0)\n",
            "Requirement already satisfied: ptyprocess in /usr/local/lib/python3.7/dist-packages (from terminado>=0.8.1->notebook->jupyter==1.0.0->d2l==0.17.5) (0.7.0)\n",
            "Requirement already satisfied: MarkupSafe>=0.23 in /usr/local/lib/python3.7/dist-packages (from jinja2->notebook->jupyter==1.0.0->d2l==0.17.5) (2.0.1)\n",
            "Requirement already satisfied: mistune<2,>=0.8.1 in /usr/local/lib/python3.7/dist-packages (from nbconvert->jupyter==1.0.0->d2l==0.17.5) (0.8.4)\n",
            "Requirement already satisfied: defusedxml in /usr/local/lib/python3.7/dist-packages (from nbconvert->jupyter==1.0.0->d2l==0.17.5) (0.7.1)\n",
            "Requirement already satisfied: testpath in /usr/local/lib/python3.7/dist-packages (from nbconvert->jupyter==1.0.0->d2l==0.17.5) (0.6.0)\n",
            "Requirement already satisfied: bleach in /usr/local/lib/python3.7/dist-packages (from nbconvert->jupyter==1.0.0->d2l==0.17.5) (5.0.0)\n",
            "Requirement already satisfied: entrypoints>=0.2.2 in /usr/local/lib/python3.7/dist-packages (from nbconvert->jupyter==1.0.0->d2l==0.17.5) (0.4)\n",
            "Requirement already satisfied: pandocfilters>=1.4.1 in /usr/local/lib/python3.7/dist-packages (from nbconvert->jupyter==1.0.0->d2l==0.17.5) (1.5.0)\n",
            "Requirement already satisfied: webencodings in /usr/local/lib/python3.7/dist-packages (from bleach->nbconvert->jupyter==1.0.0->d2l==0.17.5) (0.5.1)\n",
            "Requirement already satisfied: qtpy>=2.0.1 in /usr/local/lib/python3.7/dist-packages (from qtconsole->jupyter==1.0.0->d2l==0.17.5) (2.1.0)\n"
          ]
        }
      ],
      "source": [
        "!pip install d2l==0.17.5\n"
      ]
    },
    {
      "cell_type": "markdown",
      "metadata": {
        "origin_pos": 0,
        "id": "MPPU_TS0y9K-"
      },
      "source": [
        "# Naive Bayes\n",
        ":label:`sec_naive_bayes`\n",
        "\n",
        "Throughout the previous sections, we learned about the theory of probability and random variables.  To put this theory to work, let us introduce the *naive Bayes* classifier.  This uses nothing but probabilistic fundamentals to allow us to perform classification of digits.\n",
        "\n",
        "Learning is all about making assumptions. If we want to classify a new data example that we have never seen before we have to make some assumptions about which data examples are similar to each other. The naive Bayes classifier, a popular and remarkably clear algorithm, assumes all features are independent from each other to simplify the computation. In this section, we will apply this model to recognize characters in images.\n"
      ]
    },
    {
      "cell_type": "code",
      "execution_count": 11,
      "metadata": {
        "origin_pos": 2,
        "tab": [
          "pytorch"
        ],
        "id": "F1ABinoFy9K-"
      },
      "outputs": [],
      "source": [
        "%matplotlib inline\n",
        "import math\n",
        "import torch\n",
        "import torchvision\n",
        "from d2l import torch as d2l\n",
        "\n",
        "d2l.use_svg_display()"
      ]
    },
    {
      "cell_type": "markdown",
      "metadata": {
        "origin_pos": 4,
        "id": "jA9uRr_-y9K_"
      },
      "source": [
        "## Optical Character Recognition\n",
        "\n",
        "MNIST :cite:`LeCun.Bottou.Bengio.ea.1998` is one of widely used datasets. It contains 60,000 images for training and 10,000 images for validation. Each image contains a handwritten digit from 0 to 9. The task is classifying each image into the corresponding digit.\n",
        "\n",
        "Gluon provides a `MNIST` class in the `data.vision` module to\n",
        "automatically retrieve the dataset from the Internet.\n",
        "Subsequently, Gluon will use the already-downloaded local copy.\n",
        "We specify whether we are requesting the training set or the test set\n",
        "by setting the value of the parameter `train` to `True` or `False`, respectively.\n",
        "Each image is a grayscale image with both width and height of $28$ with shape ($28$,$28$,$1$). We use a customized transformation to remove the last channel dimension. In addition, the dataset represents each pixel by an unsigned $8$-bit integer.  We quantize them into binary features to simplify the problem.\n"
      ]
    },
    {
      "cell_type": "code",
      "execution_count": 13,
      "metadata": {
        "origin_pos": 6,
        "tab": [
          "pytorch"
        ],
        "id": "gLeWilQ9y9LA"
      },
      "outputs": [],
      "source": [
        "data_transform = torchvision.transforms.Compose([\n",
        "    torchvision.transforms.ToTensor(),\n",
        "    lambda x: torch.floor(x * 255 / 128).squeeze(dim=0)\n",
        "])\n",
        "\n",
        "mnist_train = torchvision.datasets.MNIST(\n",
        "    root='./temp', train=True, transform=data_transform, download=True)\n",
        "mnist_test = torchvision.datasets.MNIST(\n",
        "    root='./temp', train=False, transform=data_transform, download=True)"
      ]
    },
    {
      "cell_type": "markdown",
      "metadata": {
        "origin_pos": 8,
        "id": "ukhGZSuZy9LC"
      },
      "source": [
        "We can access a particular example, which contains the image and the corresponding label.\n"
      ]
    },
    {
      "cell_type": "code",
      "execution_count": 14,
      "metadata": {
        "origin_pos": 10,
        "tab": [
          "pytorch"
        ],
        "id": "P43vJ__Ay9LD",
        "outputId": "121a4cd4-a415-4280-dc95-49e09f699dd7",
        "colab": {
          "base_uri": "https://localhost:8080/"
        }
      },
      "outputs": [
        {
          "output_type": "execute_result",
          "data": {
            "text/plain": [
              "(torch.Size([28, 28]), 4)"
            ]
          },
          "metadata": {},
          "execution_count": 14
        }
      ],
      "source": [
        "image, label = mnist_train[2]\n",
        "image.shape, label"
      ]
    },
    {
      "cell_type": "markdown",
      "metadata": {
        "origin_pos": 12,
        "id": "wZljiYf_y9LE"
      },
      "source": [
        "Our example, stored here in the variable `image`, corresponds to an image with a height and width of $28$ pixels.\n"
      ]
    },
    {
      "cell_type": "code",
      "execution_count": 15,
      "metadata": {
        "origin_pos": 13,
        "tab": [
          "pytorch"
        ],
        "id": "tSSbn2Kjy9LE",
        "outputId": "3ac28eb2-433c-4174-cd45-bb0bdae8bf1f",
        "colab": {
          "base_uri": "https://localhost:8080/"
        }
      },
      "outputs": [
        {
          "output_type": "execute_result",
          "data": {
            "text/plain": [
              "(torch.Size([28, 28]), torch.float32)"
            ]
          },
          "metadata": {},
          "execution_count": 15
        }
      ],
      "source": [
        "image.shape, image.dtype"
      ]
    },
    {
      "cell_type": "markdown",
      "metadata": {
        "origin_pos": 14,
        "id": "-tjFR4Ihy9LF"
      },
      "source": [
        "Our code stores the label of each image as a scalar. Its type is a $32$-bit integer.\n"
      ]
    },
    {
      "cell_type": "code",
      "execution_count": 16,
      "metadata": {
        "origin_pos": 16,
        "tab": [
          "pytorch"
        ],
        "id": "_v_4stwiy9LF",
        "outputId": "e3e566c4-b200-4a9b-dc3f-872f14a2a896",
        "colab": {
          "base_uri": "https://localhost:8080/"
        }
      },
      "outputs": [
        {
          "output_type": "execute_result",
          "data": {
            "text/plain": [
              "(4, int)"
            ]
          },
          "metadata": {},
          "execution_count": 16
        }
      ],
      "source": [
        "label, type(label)"
      ]
    },
    {
      "cell_type": "markdown",
      "metadata": {
        "origin_pos": 18,
        "id": "dunbuk0Jy9LF"
      },
      "source": [
        "We can also access multiple examples at the same time.\n"
      ]
    },
    {
      "cell_type": "code",
      "execution_count": 17,
      "metadata": {
        "origin_pos": 20,
        "tab": [
          "pytorch"
        ],
        "id": "oz8RbRRFy9LF",
        "outputId": "05e3f24f-8bb1-41b5-9cc5-bf4412a1d9b1",
        "colab": {
          "base_uri": "https://localhost:8080/"
        }
      },
      "outputs": [
        {
          "output_type": "execute_result",
          "data": {
            "text/plain": [
              "(torch.Size([28, 28, 28]), torch.Size([28]))"
            ]
          },
          "metadata": {},
          "execution_count": 17
        }
      ],
      "source": [
        "images = torch.stack([mnist_train[i][0] for i in range(10, 38)], dim=0)\n",
        "labels = torch.tensor([mnist_train[i][1] for i in range(10, 38)])\n",
        "images.shape, labels.shape"
      ]
    },
    {
      "cell_type": "markdown",
      "metadata": {
        "origin_pos": 22,
        "id": "E4RrN4Epy9LG"
      },
      "source": [
        "Let us visualize these examples.\n"
      ]
    },
    {
      "cell_type": "code",
      "execution_count": 21,
      "metadata": {
        "origin_pos": 23,
        "tab": [
          "pytorch"
        ],
        "id": "XYVmUUJ2y9LG",
        "outputId": "2b070b09-3f73-4470-88d6-78a43b228718",
        "colab": {
          "base_uri": "https://localhost:8080/",
          "height": 397
        }
      },
      "outputs": [
        {
          "output_type": "error",
          "ename": "ImportError",
          "evalue": "ignored",
          "traceback": [
            "\u001b[0;31m---------------------------------------------------------------------------\u001b[0m",
            "\u001b[0;31mImportError\u001b[0m                               Traceback (most recent call last)",
            "\u001b[0;32m/usr/local/lib/python3.7/dist-packages/IPython/core/formatters.py\u001b[0m in \u001b[0;36m__call__\u001b[0;34m(self, obj)\u001b[0m\n\u001b[1;32m    332\u001b[0m                 \u001b[0;32mpass\u001b[0m\u001b[0;34m\u001b[0m\u001b[0;34m\u001b[0m\u001b[0m\n\u001b[1;32m    333\u001b[0m             \u001b[0;32melse\u001b[0m\u001b[0;34m:\u001b[0m\u001b[0;34m\u001b[0m\u001b[0;34m\u001b[0m\u001b[0m\n\u001b[0;32m--> 334\u001b[0;31m                 \u001b[0;32mreturn\u001b[0m \u001b[0mprinter\u001b[0m\u001b[0;34m(\u001b[0m\u001b[0mobj\u001b[0m\u001b[0;34m)\u001b[0m\u001b[0;34m\u001b[0m\u001b[0;34m\u001b[0m\u001b[0m\n\u001b[0m\u001b[1;32m    335\u001b[0m             \u001b[0;31m# Finally look for special method names\u001b[0m\u001b[0;34m\u001b[0m\u001b[0;34m\u001b[0m\u001b[0;34m\u001b[0m\u001b[0m\n\u001b[1;32m    336\u001b[0m             \u001b[0mmethod\u001b[0m \u001b[0;34m=\u001b[0m \u001b[0mget_real_method\u001b[0m\u001b[0;34m(\u001b[0m\u001b[0mobj\u001b[0m\u001b[0;34m,\u001b[0m \u001b[0mself\u001b[0m\u001b[0;34m.\u001b[0m\u001b[0mprint_method\u001b[0m\u001b[0;34m)\u001b[0m\u001b[0;34m\u001b[0m\u001b[0;34m\u001b[0m\u001b[0m\n",
            "\u001b[0;32m/usr/local/lib/python3.7/dist-packages/IPython/core/pylabtools.py\u001b[0m in \u001b[0;36m<lambda>\u001b[0;34m(fig)\u001b[0m\n\u001b[1;32m    245\u001b[0m         \u001b[0mjpg_formatter\u001b[0m\u001b[0;34m.\u001b[0m\u001b[0mfor_type\u001b[0m\u001b[0;34m(\u001b[0m\u001b[0mFigure\u001b[0m\u001b[0;34m,\u001b[0m \u001b[0;32mlambda\u001b[0m \u001b[0mfig\u001b[0m\u001b[0;34m:\u001b[0m \u001b[0mprint_figure\u001b[0m\u001b[0;34m(\u001b[0m\u001b[0mfig\u001b[0m\u001b[0;34m,\u001b[0m \u001b[0;34m'jpg'\u001b[0m\u001b[0;34m,\u001b[0m \u001b[0;34m**\u001b[0m\u001b[0mkwargs\u001b[0m\u001b[0;34m)\u001b[0m\u001b[0;34m)\u001b[0m\u001b[0;34m\u001b[0m\u001b[0;34m\u001b[0m\u001b[0m\n\u001b[1;32m    246\u001b[0m     \u001b[0;32mif\u001b[0m \u001b[0;34m'svg'\u001b[0m \u001b[0;32min\u001b[0m \u001b[0mformats\u001b[0m\u001b[0;34m:\u001b[0m\u001b[0;34m\u001b[0m\u001b[0;34m\u001b[0m\u001b[0m\n\u001b[0;32m--> 247\u001b[0;31m         \u001b[0msvg_formatter\u001b[0m\u001b[0;34m.\u001b[0m\u001b[0mfor_type\u001b[0m\u001b[0;34m(\u001b[0m\u001b[0mFigure\u001b[0m\u001b[0;34m,\u001b[0m \u001b[0;32mlambda\u001b[0m \u001b[0mfig\u001b[0m\u001b[0;34m:\u001b[0m \u001b[0mprint_figure\u001b[0m\u001b[0;34m(\u001b[0m\u001b[0mfig\u001b[0m\u001b[0;34m,\u001b[0m \u001b[0;34m'svg'\u001b[0m\u001b[0;34m,\u001b[0m \u001b[0;34m**\u001b[0m\u001b[0mkwargs\u001b[0m\u001b[0;34m)\u001b[0m\u001b[0;34m)\u001b[0m\u001b[0;34m\u001b[0m\u001b[0;34m\u001b[0m\u001b[0m\n\u001b[0m\u001b[1;32m    248\u001b[0m     \u001b[0;32mif\u001b[0m \u001b[0;34m'pdf'\u001b[0m \u001b[0;32min\u001b[0m \u001b[0mformats\u001b[0m\u001b[0;34m:\u001b[0m\u001b[0;34m\u001b[0m\u001b[0;34m\u001b[0m\u001b[0m\n\u001b[1;32m    249\u001b[0m         \u001b[0mpdf_formatter\u001b[0m\u001b[0;34m.\u001b[0m\u001b[0mfor_type\u001b[0m\u001b[0;34m(\u001b[0m\u001b[0mFigure\u001b[0m\u001b[0;34m,\u001b[0m \u001b[0;32mlambda\u001b[0m \u001b[0mfig\u001b[0m\u001b[0;34m:\u001b[0m \u001b[0mprint_figure\u001b[0m\u001b[0;34m(\u001b[0m\u001b[0mfig\u001b[0m\u001b[0;34m,\u001b[0m \u001b[0;34m'pdf'\u001b[0m\u001b[0;34m,\u001b[0m \u001b[0;34m**\u001b[0m\u001b[0mkwargs\u001b[0m\u001b[0;34m)\u001b[0m\u001b[0;34m)\u001b[0m\u001b[0;34m\u001b[0m\u001b[0;34m\u001b[0m\u001b[0m\n",
            "\u001b[0;32m/usr/local/lib/python3.7/dist-packages/IPython/core/pylabtools.py\u001b[0m in \u001b[0;36mprint_figure\u001b[0;34m(fig, fmt, bbox_inches, **kwargs)\u001b[0m\n\u001b[1;32m    123\u001b[0m \u001b[0;34m\u001b[0m\u001b[0m\n\u001b[1;32m    124\u001b[0m     \u001b[0mbytes_io\u001b[0m \u001b[0;34m=\u001b[0m \u001b[0mBytesIO\u001b[0m\u001b[0;34m(\u001b[0m\u001b[0;34m)\u001b[0m\u001b[0;34m\u001b[0m\u001b[0;34m\u001b[0m\u001b[0m\n\u001b[0;32m--> 125\u001b[0;31m     \u001b[0mfig\u001b[0m\u001b[0;34m.\u001b[0m\u001b[0mcanvas\u001b[0m\u001b[0;34m.\u001b[0m\u001b[0mprint_figure\u001b[0m\u001b[0;34m(\u001b[0m\u001b[0mbytes_io\u001b[0m\u001b[0;34m,\u001b[0m \u001b[0;34m**\u001b[0m\u001b[0mkw\u001b[0m\u001b[0;34m)\u001b[0m\u001b[0;34m\u001b[0m\u001b[0;34m\u001b[0m\u001b[0m\n\u001b[0m\u001b[1;32m    126\u001b[0m     \u001b[0mdata\u001b[0m \u001b[0;34m=\u001b[0m \u001b[0mbytes_io\u001b[0m\u001b[0;34m.\u001b[0m\u001b[0mgetvalue\u001b[0m\u001b[0;34m(\u001b[0m\u001b[0;34m)\u001b[0m\u001b[0;34m\u001b[0m\u001b[0;34m\u001b[0m\u001b[0m\n\u001b[1;32m    127\u001b[0m     \u001b[0;32mif\u001b[0m \u001b[0mfmt\u001b[0m \u001b[0;34m==\u001b[0m \u001b[0;34m'svg'\u001b[0m\u001b[0;34m:\u001b[0m\u001b[0;34m\u001b[0m\u001b[0;34m\u001b[0m\u001b[0m\n",
            "\u001b[0;32m/usr/local/lib/python3.7/dist-packages/matplotlib/backend_bases.py\u001b[0m in \u001b[0;36mprint_figure\u001b[0;34m(self, filename, dpi, facecolor, edgecolor, orientation, format, bbox_inches, **kwargs)\u001b[0m\n\u001b[1;32m   2057\u001b[0m         \"\"\"\n\u001b[1;32m   2058\u001b[0m         \u001b[0;32mif\u001b[0m \u001b[0;32mnot\u001b[0m \u001b[0mself\u001b[0m\u001b[0;34m.\u001b[0m\u001b[0m_is_idle_drawing\u001b[0m\u001b[0;34m:\u001b[0m\u001b[0;34m\u001b[0m\u001b[0;34m\u001b[0m\u001b[0m\n\u001b[0;32m-> 2059\u001b[0;31m             \u001b[0;32mwith\u001b[0m \u001b[0mself\u001b[0m\u001b[0;34m.\u001b[0m\u001b[0m_idle_draw_cntx\u001b[0m\u001b[0;34m(\u001b[0m\u001b[0;34m)\u001b[0m\u001b[0;34m:\u001b[0m\u001b[0;34m\u001b[0m\u001b[0;34m\u001b[0m\u001b[0m\n\u001b[0m\u001b[1;32m   2060\u001b[0m                 \u001b[0mself\u001b[0m\u001b[0;34m.\u001b[0m\u001b[0mdraw\u001b[0m\u001b[0;34m(\u001b[0m\u001b[0;34m*\u001b[0m\u001b[0margs\u001b[0m\u001b[0;34m,\u001b[0m \u001b[0;34m**\u001b[0m\u001b[0mkwargs\u001b[0m\u001b[0;34m)\u001b[0m\u001b[0;34m\u001b[0m\u001b[0;34m\u001b[0m\u001b[0m\n\u001b[1;32m   2061\u001b[0m \u001b[0;34m\u001b[0m\u001b[0m\n",
            "\u001b[0;32m/usr/local/lib/python3.7/dist-packages/matplotlib/backend_bases.py\u001b[0m in \u001b[0;36m_get_output_canvas\u001b[0;34m(self, fmt)\u001b[0m\n\u001b[1;32m   1991\u001b[0m         \u001b[0;32melse\u001b[0m\u001b[0;34m:\u001b[0m\u001b[0;34m\u001b[0m\u001b[0;34m\u001b[0m\u001b[0m\n\u001b[1;32m   1992\u001b[0m             \u001b[0maxes\u001b[0m \u001b[0;34m=\u001b[0m \u001b[0;32mNone\u001b[0m\u001b[0;34m\u001b[0m\u001b[0;34m\u001b[0m\u001b[0m\n\u001b[0;32m-> 1993\u001b[0;31m \u001b[0;34m\u001b[0m\u001b[0m\n\u001b[0m\u001b[1;32m   1994\u001b[0m         \u001b[0;32mreturn\u001b[0m \u001b[0maxes\u001b[0m\u001b[0;34m\u001b[0m\u001b[0;34m\u001b[0m\u001b[0m\n\u001b[1;32m   1995\u001b[0m \u001b[0;34m\u001b[0m\u001b[0m\n",
            "\u001b[0;32m/usr/local/lib/python3.7/dist-packages/matplotlib/backend_bases.py\u001b[0m in \u001b[0;36mget_registered_canvas_class\u001b[0;34m(format)\u001b[0m\n\u001b[1;32m    124\u001b[0m     \u001b[0mbackend\u001b[0m \u001b[0;34m:\u001b[0m \u001b[0mmodule\u001b[0m \u001b[0mstring\u001b[0m \u001b[0;32mor\u001b[0m \u001b[0mcanvas\u001b[0m \u001b[0;32mclass\u001b[0m\u001b[0;34m\u001b[0m\u001b[0;34m\u001b[0m\u001b[0m\n\u001b[1;32m    125\u001b[0m         \u001b[0mBackend\u001b[0m \u001b[0;32mfor\u001b[0m \u001b[0mhandling\u001b[0m \u001b[0mfile\u001b[0m \u001b[0moutput\u001b[0m\u001b[0;34m\u001b[0m\u001b[0;34m\u001b[0m\u001b[0m\n\u001b[0;32m--> 126\u001b[0;31m     \u001b[0mdescription\u001b[0m \u001b[0;34m:\u001b[0m \u001b[0mstr\u001b[0m\u001b[0;34m,\u001b[0m \u001b[0mdefault\u001b[0m\u001b[0;34m:\u001b[0m \u001b[0;34m\"\"\u001b[0m\u001b[0;34m\u001b[0m\u001b[0;34m\u001b[0m\u001b[0m\n\u001b[0m\u001b[1;32m    127\u001b[0m         \u001b[0mDescription\u001b[0m \u001b[0mof\u001b[0m \u001b[0mthe\u001b[0m \u001b[0mfile\u001b[0m \u001b[0mtype\u001b[0m\u001b[0;34m.\u001b[0m\u001b[0;34m\u001b[0m\u001b[0;34m\u001b[0m\u001b[0m\n\u001b[1;32m    128\u001b[0m     \"\"\"\n",
            "\u001b[0;32m/usr/lib/python3.7/importlib/__init__.py\u001b[0m in \u001b[0;36mimport_module\u001b[0;34m(name, package)\u001b[0m\n\u001b[1;32m    125\u001b[0m                 \u001b[0;32mbreak\u001b[0m\u001b[0;34m\u001b[0m\u001b[0;34m\u001b[0m\u001b[0m\n\u001b[1;32m    126\u001b[0m             \u001b[0mlevel\u001b[0m \u001b[0;34m+=\u001b[0m \u001b[0;36m1\u001b[0m\u001b[0;34m\u001b[0m\u001b[0;34m\u001b[0m\u001b[0m\n\u001b[0;32m--> 127\u001b[0;31m     \u001b[0;32mreturn\u001b[0m \u001b[0m_bootstrap\u001b[0m\u001b[0;34m.\u001b[0m\u001b[0m_gcd_import\u001b[0m\u001b[0;34m(\u001b[0m\u001b[0mname\u001b[0m\u001b[0;34m[\u001b[0m\u001b[0mlevel\u001b[0m\u001b[0;34m:\u001b[0m\u001b[0;34m]\u001b[0m\u001b[0;34m,\u001b[0m \u001b[0mpackage\u001b[0m\u001b[0;34m,\u001b[0m \u001b[0mlevel\u001b[0m\u001b[0;34m)\u001b[0m\u001b[0;34m\u001b[0m\u001b[0;34m\u001b[0m\u001b[0m\n\u001b[0m\u001b[1;32m    128\u001b[0m \u001b[0;34m\u001b[0m\u001b[0m\n\u001b[1;32m    129\u001b[0m \u001b[0;34m\u001b[0m\u001b[0m\n",
            "\u001b[0;32m/usr/lib/python3.7/importlib/_bootstrap.py\u001b[0m in \u001b[0;36m_gcd_import\u001b[0;34m(name, package, level)\u001b[0m\n",
            "\u001b[0;32m/usr/lib/python3.7/importlib/_bootstrap.py\u001b[0m in \u001b[0;36m_find_and_load\u001b[0;34m(name, import_)\u001b[0m\n",
            "\u001b[0;32m/usr/lib/python3.7/importlib/_bootstrap.py\u001b[0m in \u001b[0;36m_find_and_load_unlocked\u001b[0;34m(name, import_)\u001b[0m\n",
            "\u001b[0;32m/usr/lib/python3.7/importlib/_bootstrap.py\u001b[0m in \u001b[0;36m_load_unlocked\u001b[0;34m(spec)\u001b[0m\n",
            "\u001b[0;32m/usr/lib/python3.7/importlib/_bootstrap_external.py\u001b[0m in \u001b[0;36mexec_module\u001b[0;34m(self, module)\u001b[0m\n",
            "\u001b[0;32m/usr/lib/python3.7/importlib/_bootstrap.py\u001b[0m in \u001b[0;36m_call_with_frames_removed\u001b[0;34m(f, *args, **kwds)\u001b[0m\n",
            "\u001b[0;32m/usr/local/lib/python3.7/dist-packages/matplotlib/backends/backend_svg.py\u001b[0m in \u001b[0;36m<module>\u001b[0;34m()\u001b[0m\n\u001b[1;32m     16\u001b[0m \u001b[0;32mimport\u001b[0m \u001b[0mmatplotlib\u001b[0m \u001b[0;32mas\u001b[0m \u001b[0mmpl\u001b[0m\u001b[0;34m\u001b[0m\u001b[0;34m\u001b[0m\u001b[0m\n\u001b[1;32m     17\u001b[0m \u001b[0;32mfrom\u001b[0m \u001b[0mmatplotlib\u001b[0m \u001b[0;32mimport\u001b[0m \u001b[0m_api\u001b[0m\u001b[0;34m,\u001b[0m \u001b[0mcbook\u001b[0m\u001b[0;34m,\u001b[0m \u001b[0mfont_manager\u001b[0m \u001b[0;32mas\u001b[0m \u001b[0mfm\u001b[0m\u001b[0;34m\u001b[0m\u001b[0;34m\u001b[0m\u001b[0m\n\u001b[0;32m---> 18\u001b[0;31m from matplotlib.backend_bases import (\n\u001b[0m\u001b[1;32m     19\u001b[0m      \u001b[0m_Backend\u001b[0m\u001b[0;34m,\u001b[0m \u001b[0m_check_savefig_extra_args\u001b[0m\u001b[0;34m,\u001b[0m \u001b[0mFigureCanvasBase\u001b[0m\u001b[0;34m,\u001b[0m \u001b[0mFigureManagerBase\u001b[0m\u001b[0;34m,\u001b[0m\u001b[0;34m\u001b[0m\u001b[0;34m\u001b[0m\u001b[0m\n\u001b[1;32m     20\u001b[0m      RendererBase)\n",
            "\u001b[0;31mImportError\u001b[0m: cannot import name '_check_savefig_extra_args' from 'matplotlib.backend_bases' (/usr/local/lib/python3.7/dist-packages/matplotlib/backend_bases.py)"
          ]
        },
        {
          "output_type": "display_data",
          "data": {
            "text/plain": [
              "<Figure size 972x216 with 18 Axes>"
            ]
          },
          "metadata": {
            "needs_background": "light"
          }
        }
      ],
      "source": [
        "d2l.show_images(images, 2, 9);"
      ]
    },
    {
      "cell_type": "markdown",
      "metadata": {
        "origin_pos": 24,
        "id": "dO0d5ak8y9LG"
      },
      "source": [
        "## The Probabilistic Model for Classification\n",
        "\n",
        "In a classification task, we map an example into a category. Here an example is a grayscale $28\\times 28$ image, and a category is a digit. (Refer to :numref:`sec_softmax` for a more detailed explanation.)\n",
        "One natural way to express the classification task is via the probabilistic question: what is the most likely label given the features (i.e., image pixels)? Denote by $\\mathbf x\\in\\mathbb R^d$ the features of the example and $y\\in\\mathbb R$ the label. Here features are image pixels, where we can reshape a $2$-dimensional image to a vector so that $d=28^2=784$, and labels are digits.\n",
        "The probability of the label given the features is $p(y  \\mid  \\mathbf{x})$. If we are able to compute these probabilities, which are $p(y  \\mid  \\mathbf{x})$ for $y=0, \\ldots,9$ in our example, then the classifier will output the prediction $\\hat{y}$ given by the expression:\n",
        "\n",
        "$$\\hat{y} = \\mathrm{argmax} \\> p(y  \\mid  \\mathbf{x}).$$\n",
        "\n",
        "Unfortunately, this requires that we estimate $p(y  \\mid  \\mathbf{x})$ for every value of $\\mathbf{x} = x_1, ..., x_d$. Imagine that each feature could take one of $2$ values. For example, the feature $x_1 = 1$ might signify that the word apple appears in a given document and $x_1 = 0$ would signify that it does not. If we had $30$ such binary features, that would mean that we need to be prepared to classify any of $2^{30}$ (over 1 billion!) possible values of the input vector $\\mathbf{x}$.\n",
        "\n",
        "Moreover, where is the learning? If we need to see every single possible example in order to predict the corresponding label then we are not really learning a pattern but just memorizing the dataset.\n",
        "\n",
        "## The Naive Bayes Classifier\n",
        "\n",
        "Fortunately, by making some assumptions about conditional independence, we can introduce some inductive bias and build a model capable of generalizing from a comparatively modest selection of training examples. To begin, let us use Bayes theorem, to express the classifier as\n",
        "\n",
        "$$\\hat{y} = \\mathrm{argmax}_y \\> p(y  \\mid  \\mathbf{x}) = \\mathrm{argmax}_y \\> \\frac{p( \\mathbf{x}  \\mid  y) p(y)}{p(\\mathbf{x})}.$$\n",
        "\n",
        "Note that the denominator is the normalizing term $p(\\mathbf{x})$ which does not depend on the value of the label $y$. As a result, we only need to worry about comparing the numerator across different values of $y$. Even if calculating the denominator turned out to be intractable, we could get away with ignoring it, so long as we could evaluate the numerator. Fortunately, even if we wanted to recover the normalizing constant, we could.  We can always recover the normalization term since $\\sum_y p(y  \\mid  \\mathbf{x}) = 1$.\n",
        "\n",
        "Now, let us focus on $p( \\mathbf{x}  \\mid  y)$. Using the chain rule of probability, we can express the term $p( \\mathbf{x}  \\mid  y)$ as\n",
        "\n",
        "$$p(x_1  \\mid y) \\cdot p(x_2  \\mid  x_1, y) \\cdot ... \\cdot p( x_d  \\mid  x_1, ..., x_{d-1}, y).$$\n",
        "\n",
        "By itself, this expression does not get us any further. We still must estimate roughly $2^d$ parameters. However, if we assume that *the features are conditionally independent of each other, given the label*, then suddenly we are in much better shape, as this term simplifies to $\\prod_i p(x_i  \\mid  y)$, giving us the predictor\n",
        "\n",
        "$$\\hat{y} = \\mathrm{argmax}_y \\> \\prod_{i=1}^d p(x_i  \\mid  y) p(y).$$\n",
        "\n",
        "If we can estimate $p(x_i=1  \\mid  y)$ for every $i$ and $y$, and save its value in $P_{xy}[i, y]$, here $P_{xy}$ is a $d\\times n$ matrix with $n$ being the number of classes and $y\\in\\{1, \\ldots, n\\}$, then we can also use this to estimate $p(x_i = 0 \\mid y)$, i.e.,\n",
        "\n",
        "$$ \n",
        "p(x_i = t_i \\mid y) = \n",
        "\\begin{cases}\n",
        "    P_{xy}[i, y] & \\text{for } t_i=1 ;\\\\\n",
        "    1 - P_{xy}[i, y] & \\text{for } t_i = 0 .\n",
        "\\end{cases}\n",
        "$$\n",
        "\n",
        "In addition, we estimate $p(y)$ for every $y$ and save it in $P_y[y]$, with $P_y$ a $n$-length vector. Then, for any new example $\\mathbf t = (t_1, t_2, \\ldots, t_d)$, we could compute\n",
        "\n",
        "$$\\begin{aligned}\\hat{y} &= \\mathrm{argmax}_ y \\ p(y)\\prod_{i=1}^d   p(x_t = t_i \\mid y) \\\\ &= \\mathrm{argmax}_y \\ P_y[y]\\prod_{i=1}^d \\ P_{xy}[i, y]^{t_i}\\, \\left(1 - P_{xy}[i, y]\\right)^{1-t_i}\\end{aligned}$$\n",
        ":eqlabel:`eq_naive_bayes_estimation`\n",
        "\n",
        "for any $y$. So our assumption of conditional independence has taken the complexity of our model from an exponential dependence on the number of features $\\mathcal{O}(2^dn)$ to a linear dependence, which is $\\mathcal{O}(dn)$.\n",
        "\n",
        "\n",
        "## Training\n",
        "\n",
        "The problem now is that we do not know $P_{xy}$ and $P_y$. So we need to estimate their values given some training data first. This is *training* the model. Estimating $P_y$ is not too hard. Since we are only dealing with $10$ classes, we may count the number of occurrences $n_y$ for each of the digits and divide it by the total amount of data $n$. For instance, if digit 8 occurs $n_8 = 5,800$ times and we have a total of $n = 60,000$ images, the probability estimate is $p(y=8) = 0.0967$.\n"
      ]
    },
    {
      "cell_type": "code",
      "execution_count": 19,
      "metadata": {
        "origin_pos": 26,
        "tab": [
          "pytorch"
        ],
        "id": "1ASCHN5ry9LI",
        "outputId": "58194e2e-e82f-40f9-d1cb-1a9decc96344",
        "colab": {
          "base_uri": "https://localhost:8080/"
        }
      },
      "outputs": [
        {
          "output_type": "execute_result",
          "data": {
            "text/plain": [
              "tensor([0.0987, 0.1124, 0.0993, 0.1022, 0.0974, 0.0904, 0.0986, 0.1044, 0.0975,\n",
              "        0.0992])"
            ]
          },
          "metadata": {},
          "execution_count": 19
        }
      ],
      "source": [
        "X = torch.stack([mnist_train[i][0] for i in range(len(mnist_train))], dim=0)\n",
        "Y = torch.tensor([mnist_train[i][1] for i in range(len(mnist_train))])\n",
        "\n",
        "n_y = torch.zeros(10)\n",
        "for y in range(10):\n",
        "    n_y[y] = (Y == y).sum()\n",
        "P_y = n_y / n_y.sum()\n",
        "P_y"
      ]
    },
    {
      "cell_type": "markdown",
      "metadata": {
        "origin_pos": 28,
        "id": "LBdPMO5Wy9LI"
      },
      "source": [
        "Now on to slightly more difficult things $P_{xy}$. Since we picked black and white images, $p(x_i  \\mid  y)$ denotes the probability that pixel $i$ is switched on for class $y$. Just like before we can go and count the number of times $n_{iy}$ such that an event occurs and divide it by the total number of occurrences of $y$, i.e., $n_y$. But there is something slightly troubling: certain pixels may never be black (e.g., for well cropped images the corner pixels might always be white). A convenient way for statisticians to deal with this problem is to add pseudo counts to all occurrences. Hence, rather than $n_{iy}$ we use $n_{iy}+1$ and instead of $n_y$ we use $n_{y} + 1$. This is also called *Laplace Smoothing*.  It may seem ad-hoc, however it may be well motivated from a Bayesian point-of-view.\n"
      ]
    },
    {
      "cell_type": "code",
      "execution_count": 20,
      "metadata": {
        "origin_pos": 30,
        "tab": [
          "pytorch"
        ],
        "id": "Mmn5wTLWy9LI",
        "outputId": "1dbf9f79-267b-4340-ca29-f15745be5749",
        "colab": {
          "base_uri": "https://localhost:8080/",
          "height": 397
        }
      },
      "outputs": [
        {
          "output_type": "error",
          "ename": "ImportError",
          "evalue": "ignored",
          "traceback": [
            "\u001b[0;31m---------------------------------------------------------------------------\u001b[0m",
            "\u001b[0;31mImportError\u001b[0m                               Traceback (most recent call last)",
            "\u001b[0;32m/usr/local/lib/python3.7/dist-packages/IPython/core/formatters.py\u001b[0m in \u001b[0;36m__call__\u001b[0;34m(self, obj)\u001b[0m\n\u001b[1;32m    332\u001b[0m                 \u001b[0;32mpass\u001b[0m\u001b[0;34m\u001b[0m\u001b[0;34m\u001b[0m\u001b[0m\n\u001b[1;32m    333\u001b[0m             \u001b[0;32melse\u001b[0m\u001b[0;34m:\u001b[0m\u001b[0;34m\u001b[0m\u001b[0;34m\u001b[0m\u001b[0m\n\u001b[0;32m--> 334\u001b[0;31m                 \u001b[0;32mreturn\u001b[0m \u001b[0mprinter\u001b[0m\u001b[0;34m(\u001b[0m\u001b[0mobj\u001b[0m\u001b[0;34m)\u001b[0m\u001b[0;34m\u001b[0m\u001b[0;34m\u001b[0m\u001b[0m\n\u001b[0m\u001b[1;32m    335\u001b[0m             \u001b[0;31m# Finally look for special method names\u001b[0m\u001b[0;34m\u001b[0m\u001b[0;34m\u001b[0m\u001b[0;34m\u001b[0m\u001b[0m\n\u001b[1;32m    336\u001b[0m             \u001b[0mmethod\u001b[0m \u001b[0;34m=\u001b[0m \u001b[0mget_real_method\u001b[0m\u001b[0;34m(\u001b[0m\u001b[0mobj\u001b[0m\u001b[0;34m,\u001b[0m \u001b[0mself\u001b[0m\u001b[0;34m.\u001b[0m\u001b[0mprint_method\u001b[0m\u001b[0;34m)\u001b[0m\u001b[0;34m\u001b[0m\u001b[0;34m\u001b[0m\u001b[0m\n",
            "\u001b[0;32m/usr/local/lib/python3.7/dist-packages/IPython/core/pylabtools.py\u001b[0m in \u001b[0;36m<lambda>\u001b[0;34m(fig)\u001b[0m\n\u001b[1;32m    245\u001b[0m         \u001b[0mjpg_formatter\u001b[0m\u001b[0;34m.\u001b[0m\u001b[0mfor_type\u001b[0m\u001b[0;34m(\u001b[0m\u001b[0mFigure\u001b[0m\u001b[0;34m,\u001b[0m \u001b[0;32mlambda\u001b[0m \u001b[0mfig\u001b[0m\u001b[0;34m:\u001b[0m \u001b[0mprint_figure\u001b[0m\u001b[0;34m(\u001b[0m\u001b[0mfig\u001b[0m\u001b[0;34m,\u001b[0m \u001b[0;34m'jpg'\u001b[0m\u001b[0;34m,\u001b[0m \u001b[0;34m**\u001b[0m\u001b[0mkwargs\u001b[0m\u001b[0;34m)\u001b[0m\u001b[0;34m)\u001b[0m\u001b[0;34m\u001b[0m\u001b[0;34m\u001b[0m\u001b[0m\n\u001b[1;32m    246\u001b[0m     \u001b[0;32mif\u001b[0m \u001b[0;34m'svg'\u001b[0m \u001b[0;32min\u001b[0m \u001b[0mformats\u001b[0m\u001b[0;34m:\u001b[0m\u001b[0;34m\u001b[0m\u001b[0;34m\u001b[0m\u001b[0m\n\u001b[0;32m--> 247\u001b[0;31m         \u001b[0msvg_formatter\u001b[0m\u001b[0;34m.\u001b[0m\u001b[0mfor_type\u001b[0m\u001b[0;34m(\u001b[0m\u001b[0mFigure\u001b[0m\u001b[0;34m,\u001b[0m \u001b[0;32mlambda\u001b[0m \u001b[0mfig\u001b[0m\u001b[0;34m:\u001b[0m \u001b[0mprint_figure\u001b[0m\u001b[0;34m(\u001b[0m\u001b[0mfig\u001b[0m\u001b[0;34m,\u001b[0m \u001b[0;34m'svg'\u001b[0m\u001b[0;34m,\u001b[0m \u001b[0;34m**\u001b[0m\u001b[0mkwargs\u001b[0m\u001b[0;34m)\u001b[0m\u001b[0;34m)\u001b[0m\u001b[0;34m\u001b[0m\u001b[0;34m\u001b[0m\u001b[0m\n\u001b[0m\u001b[1;32m    248\u001b[0m     \u001b[0;32mif\u001b[0m \u001b[0;34m'pdf'\u001b[0m \u001b[0;32min\u001b[0m \u001b[0mformats\u001b[0m\u001b[0;34m:\u001b[0m\u001b[0;34m\u001b[0m\u001b[0;34m\u001b[0m\u001b[0m\n\u001b[1;32m    249\u001b[0m         \u001b[0mpdf_formatter\u001b[0m\u001b[0;34m.\u001b[0m\u001b[0mfor_type\u001b[0m\u001b[0;34m(\u001b[0m\u001b[0mFigure\u001b[0m\u001b[0;34m,\u001b[0m \u001b[0;32mlambda\u001b[0m \u001b[0mfig\u001b[0m\u001b[0;34m:\u001b[0m \u001b[0mprint_figure\u001b[0m\u001b[0;34m(\u001b[0m\u001b[0mfig\u001b[0m\u001b[0;34m,\u001b[0m \u001b[0;34m'pdf'\u001b[0m\u001b[0;34m,\u001b[0m \u001b[0;34m**\u001b[0m\u001b[0mkwargs\u001b[0m\u001b[0;34m)\u001b[0m\u001b[0;34m)\u001b[0m\u001b[0;34m\u001b[0m\u001b[0;34m\u001b[0m\u001b[0m\n",
            "\u001b[0;32m/usr/local/lib/python3.7/dist-packages/IPython/core/pylabtools.py\u001b[0m in \u001b[0;36mprint_figure\u001b[0;34m(fig, fmt, bbox_inches, **kwargs)\u001b[0m\n\u001b[1;32m    123\u001b[0m \u001b[0;34m\u001b[0m\u001b[0m\n\u001b[1;32m    124\u001b[0m     \u001b[0mbytes_io\u001b[0m \u001b[0;34m=\u001b[0m \u001b[0mBytesIO\u001b[0m\u001b[0;34m(\u001b[0m\u001b[0;34m)\u001b[0m\u001b[0;34m\u001b[0m\u001b[0;34m\u001b[0m\u001b[0m\n\u001b[0;32m--> 125\u001b[0;31m     \u001b[0mfig\u001b[0m\u001b[0;34m.\u001b[0m\u001b[0mcanvas\u001b[0m\u001b[0;34m.\u001b[0m\u001b[0mprint_figure\u001b[0m\u001b[0;34m(\u001b[0m\u001b[0mbytes_io\u001b[0m\u001b[0;34m,\u001b[0m \u001b[0;34m**\u001b[0m\u001b[0mkw\u001b[0m\u001b[0;34m)\u001b[0m\u001b[0;34m\u001b[0m\u001b[0;34m\u001b[0m\u001b[0m\n\u001b[0m\u001b[1;32m    126\u001b[0m     \u001b[0mdata\u001b[0m \u001b[0;34m=\u001b[0m \u001b[0mbytes_io\u001b[0m\u001b[0;34m.\u001b[0m\u001b[0mgetvalue\u001b[0m\u001b[0;34m(\u001b[0m\u001b[0;34m)\u001b[0m\u001b[0;34m\u001b[0m\u001b[0;34m\u001b[0m\u001b[0m\n\u001b[1;32m    127\u001b[0m     \u001b[0;32mif\u001b[0m \u001b[0mfmt\u001b[0m \u001b[0;34m==\u001b[0m \u001b[0;34m'svg'\u001b[0m\u001b[0;34m:\u001b[0m\u001b[0;34m\u001b[0m\u001b[0;34m\u001b[0m\u001b[0m\n",
            "\u001b[0;32m/usr/local/lib/python3.7/dist-packages/matplotlib/backend_bases.py\u001b[0m in \u001b[0;36mprint_figure\u001b[0;34m(self, filename, dpi, facecolor, edgecolor, orientation, format, bbox_inches, **kwargs)\u001b[0m\n\u001b[1;32m   2057\u001b[0m         \"\"\"\n\u001b[1;32m   2058\u001b[0m         \u001b[0;32mif\u001b[0m \u001b[0;32mnot\u001b[0m \u001b[0mself\u001b[0m\u001b[0;34m.\u001b[0m\u001b[0m_is_idle_drawing\u001b[0m\u001b[0;34m:\u001b[0m\u001b[0;34m\u001b[0m\u001b[0;34m\u001b[0m\u001b[0m\n\u001b[0;32m-> 2059\u001b[0;31m             \u001b[0;32mwith\u001b[0m \u001b[0mself\u001b[0m\u001b[0;34m.\u001b[0m\u001b[0m_idle_draw_cntx\u001b[0m\u001b[0;34m(\u001b[0m\u001b[0;34m)\u001b[0m\u001b[0;34m:\u001b[0m\u001b[0;34m\u001b[0m\u001b[0;34m\u001b[0m\u001b[0m\n\u001b[0m\u001b[1;32m   2060\u001b[0m                 \u001b[0mself\u001b[0m\u001b[0;34m.\u001b[0m\u001b[0mdraw\u001b[0m\u001b[0;34m(\u001b[0m\u001b[0;34m*\u001b[0m\u001b[0margs\u001b[0m\u001b[0;34m,\u001b[0m \u001b[0;34m**\u001b[0m\u001b[0mkwargs\u001b[0m\u001b[0;34m)\u001b[0m\u001b[0;34m\u001b[0m\u001b[0;34m\u001b[0m\u001b[0m\n\u001b[1;32m   2061\u001b[0m \u001b[0;34m\u001b[0m\u001b[0m\n",
            "\u001b[0;32m/usr/local/lib/python3.7/dist-packages/matplotlib/backend_bases.py\u001b[0m in \u001b[0;36m_get_output_canvas\u001b[0;34m(self, fmt)\u001b[0m\n\u001b[1;32m   1991\u001b[0m         \u001b[0;32melse\u001b[0m\u001b[0;34m:\u001b[0m\u001b[0;34m\u001b[0m\u001b[0;34m\u001b[0m\u001b[0m\n\u001b[1;32m   1992\u001b[0m             \u001b[0maxes\u001b[0m \u001b[0;34m=\u001b[0m \u001b[0;32mNone\u001b[0m\u001b[0;34m\u001b[0m\u001b[0;34m\u001b[0m\u001b[0m\n\u001b[0;32m-> 1993\u001b[0;31m \u001b[0;34m\u001b[0m\u001b[0m\n\u001b[0m\u001b[1;32m   1994\u001b[0m         \u001b[0;32mreturn\u001b[0m \u001b[0maxes\u001b[0m\u001b[0;34m\u001b[0m\u001b[0;34m\u001b[0m\u001b[0m\n\u001b[1;32m   1995\u001b[0m \u001b[0;34m\u001b[0m\u001b[0m\n",
            "\u001b[0;32m/usr/local/lib/python3.7/dist-packages/matplotlib/backend_bases.py\u001b[0m in \u001b[0;36mget_registered_canvas_class\u001b[0;34m(format)\u001b[0m\n\u001b[1;32m    124\u001b[0m     \u001b[0mbackend\u001b[0m \u001b[0;34m:\u001b[0m \u001b[0mmodule\u001b[0m \u001b[0mstring\u001b[0m \u001b[0;32mor\u001b[0m \u001b[0mcanvas\u001b[0m \u001b[0;32mclass\u001b[0m\u001b[0;34m\u001b[0m\u001b[0;34m\u001b[0m\u001b[0m\n\u001b[1;32m    125\u001b[0m         \u001b[0mBackend\u001b[0m \u001b[0;32mfor\u001b[0m \u001b[0mhandling\u001b[0m \u001b[0mfile\u001b[0m \u001b[0moutput\u001b[0m\u001b[0;34m\u001b[0m\u001b[0;34m\u001b[0m\u001b[0m\n\u001b[0;32m--> 126\u001b[0;31m     \u001b[0mdescription\u001b[0m \u001b[0;34m:\u001b[0m \u001b[0mstr\u001b[0m\u001b[0;34m,\u001b[0m \u001b[0mdefault\u001b[0m\u001b[0;34m:\u001b[0m \u001b[0;34m\"\"\u001b[0m\u001b[0;34m\u001b[0m\u001b[0;34m\u001b[0m\u001b[0m\n\u001b[0m\u001b[1;32m    127\u001b[0m         \u001b[0mDescription\u001b[0m \u001b[0mof\u001b[0m \u001b[0mthe\u001b[0m \u001b[0mfile\u001b[0m \u001b[0mtype\u001b[0m\u001b[0;34m.\u001b[0m\u001b[0;34m\u001b[0m\u001b[0;34m\u001b[0m\u001b[0m\n\u001b[1;32m    128\u001b[0m     \"\"\"\n",
            "\u001b[0;32m/usr/lib/python3.7/importlib/__init__.py\u001b[0m in \u001b[0;36mimport_module\u001b[0;34m(name, package)\u001b[0m\n\u001b[1;32m    125\u001b[0m                 \u001b[0;32mbreak\u001b[0m\u001b[0;34m\u001b[0m\u001b[0;34m\u001b[0m\u001b[0m\n\u001b[1;32m    126\u001b[0m             \u001b[0mlevel\u001b[0m \u001b[0;34m+=\u001b[0m \u001b[0;36m1\u001b[0m\u001b[0;34m\u001b[0m\u001b[0;34m\u001b[0m\u001b[0m\n\u001b[0;32m--> 127\u001b[0;31m     \u001b[0;32mreturn\u001b[0m \u001b[0m_bootstrap\u001b[0m\u001b[0;34m.\u001b[0m\u001b[0m_gcd_import\u001b[0m\u001b[0;34m(\u001b[0m\u001b[0mname\u001b[0m\u001b[0;34m[\u001b[0m\u001b[0mlevel\u001b[0m\u001b[0;34m:\u001b[0m\u001b[0;34m]\u001b[0m\u001b[0;34m,\u001b[0m \u001b[0mpackage\u001b[0m\u001b[0;34m,\u001b[0m \u001b[0mlevel\u001b[0m\u001b[0;34m)\u001b[0m\u001b[0;34m\u001b[0m\u001b[0;34m\u001b[0m\u001b[0m\n\u001b[0m\u001b[1;32m    128\u001b[0m \u001b[0;34m\u001b[0m\u001b[0m\n\u001b[1;32m    129\u001b[0m \u001b[0;34m\u001b[0m\u001b[0m\n",
            "\u001b[0;32m/usr/lib/python3.7/importlib/_bootstrap.py\u001b[0m in \u001b[0;36m_gcd_import\u001b[0;34m(name, package, level)\u001b[0m\n",
            "\u001b[0;32m/usr/lib/python3.7/importlib/_bootstrap.py\u001b[0m in \u001b[0;36m_find_and_load\u001b[0;34m(name, import_)\u001b[0m\n",
            "\u001b[0;32m/usr/lib/python3.7/importlib/_bootstrap.py\u001b[0m in \u001b[0;36m_find_and_load_unlocked\u001b[0;34m(name, import_)\u001b[0m\n",
            "\u001b[0;32m/usr/lib/python3.7/importlib/_bootstrap.py\u001b[0m in \u001b[0;36m_load_unlocked\u001b[0;34m(spec)\u001b[0m\n",
            "\u001b[0;32m/usr/lib/python3.7/importlib/_bootstrap_external.py\u001b[0m in \u001b[0;36mexec_module\u001b[0;34m(self, module)\u001b[0m\n",
            "\u001b[0;32m/usr/lib/python3.7/importlib/_bootstrap.py\u001b[0m in \u001b[0;36m_call_with_frames_removed\u001b[0;34m(f, *args, **kwds)\u001b[0m\n",
            "\u001b[0;32m/usr/local/lib/python3.7/dist-packages/matplotlib/backends/backend_svg.py\u001b[0m in \u001b[0;36m<module>\u001b[0;34m()\u001b[0m\n\u001b[1;32m     16\u001b[0m \u001b[0;32mimport\u001b[0m \u001b[0mmatplotlib\u001b[0m \u001b[0;32mas\u001b[0m \u001b[0mmpl\u001b[0m\u001b[0;34m\u001b[0m\u001b[0;34m\u001b[0m\u001b[0m\n\u001b[1;32m     17\u001b[0m \u001b[0;32mfrom\u001b[0m \u001b[0mmatplotlib\u001b[0m \u001b[0;32mimport\u001b[0m \u001b[0m_api\u001b[0m\u001b[0;34m,\u001b[0m \u001b[0mcbook\u001b[0m\u001b[0;34m,\u001b[0m \u001b[0mfont_manager\u001b[0m \u001b[0;32mas\u001b[0m \u001b[0mfm\u001b[0m\u001b[0;34m\u001b[0m\u001b[0;34m\u001b[0m\u001b[0m\n\u001b[0;32m---> 18\u001b[0;31m from matplotlib.backend_bases import (\n\u001b[0m\u001b[1;32m     19\u001b[0m      \u001b[0m_Backend\u001b[0m\u001b[0;34m,\u001b[0m \u001b[0m_check_savefig_extra_args\u001b[0m\u001b[0;34m,\u001b[0m \u001b[0mFigureCanvasBase\u001b[0m\u001b[0;34m,\u001b[0m \u001b[0mFigureManagerBase\u001b[0m\u001b[0;34m,\u001b[0m\u001b[0;34m\u001b[0m\u001b[0;34m\u001b[0m\u001b[0m\n\u001b[1;32m     20\u001b[0m      RendererBase)\n",
            "\u001b[0;31mImportError\u001b[0m: cannot import name '_check_savefig_extra_args' from 'matplotlib.backend_bases' (/usr/local/lib/python3.7/dist-packages/matplotlib/backend_bases.py)"
          ]
        },
        {
          "output_type": "display_data",
          "data": {
            "text/plain": [
              "<Figure size 540x216 with 10 Axes>"
            ]
          },
          "metadata": {
            "needs_background": "light"
          }
        }
      ],
      "source": [
        "n_x = torch.zeros((10, 28, 28))\n",
        "for y in range(10):\n",
        "    n_x[y] = torch.tensor(X.numpy()[Y.numpy() == y].sum(axis=0))\n",
        "P_xy = (n_x + 1) / (n_y + 1).reshape(10, 1, 1)\n",
        "\n",
        "d2l.show_images(P_xy, 2, 5);"
      ]
    },
    {
      "cell_type": "markdown",
      "metadata": {
        "origin_pos": 32,
        "id": "RSCYdCtgy9LJ"
      },
      "source": [
        "By visualizing these $10\\times 28\\times 28$ probabilities (for each pixel for each class) we could get some mean looking digits.\n",
        "\n",
        "Now we can use :eqref:`eq_naive_bayes_estimation` to predict a new image. Given $\\mathbf x$, the following functions computes $p(\\mathbf x \\mid y)p(y)$ for every $y$.\n"
      ]
    },
    {
      "cell_type": "code",
      "execution_count": null,
      "metadata": {
        "origin_pos": 34,
        "tab": [
          "pytorch"
        ],
        "id": "XshFdCVVy9LJ",
        "outputId": "4e57d9e0-e31b-4dee-84ab-d9575d65889a"
      },
      "outputs": [
        {
          "data": {
            "text/plain": [
              "tensor([0., 0., 0., 0., 0., 0., 0., 0., 0., 0.])"
            ]
          },
          "execution_count": 10,
          "metadata": {},
          "output_type": "execute_result"
        }
      ],
      "source": [
        "def bayes_pred(x):\n",
        "    x = x.unsqueeze(0)  # (28, 28) -> (1, 28, 28)\n",
        "    p_xy = P_xy * x + (1 - P_xy)*(1 - x)\n",
        "    p_xy = p_xy.reshape(10, -1).prod(dim=1)  # p(x|y)\n",
        "    return p_xy * P_y\n",
        "\n",
        "image, label = mnist_test[0]\n",
        "bayes_pred(image)"
      ]
    },
    {
      "cell_type": "markdown",
      "metadata": {
        "origin_pos": 36,
        "id": "jZ0c79jHy9LJ"
      },
      "source": [
        "This went horribly wrong! To find out why, let us look at the per pixel probabilities. They are typically numbers between $0.001$ and $1$. We are multiplying $784$ of them. At this point it is worth mentioning that we are calculating these numbers on a computer, hence with a fixed range for the exponent. What happens is that we experience *numerical underflow*, i.e., multiplying all the small numbers leads to something even smaller until it is rounded down to zero.  We discussed this as a theoretical issue in :numref:`sec_maximum_likelihood`, but we see the phenomena clearly here in practice.\n",
        "\n",
        "As discussed in that section, we fix this by use the fact that $\\log a b = \\log a + \\log b$, i.e., we switch to summing logarithms.\n",
        "Even if both $a$ and $b$ are small numbers, the logarithm values should be in a proper range.\n"
      ]
    },
    {
      "cell_type": "code",
      "execution_count": null,
      "metadata": {
        "origin_pos": 38,
        "tab": [
          "pytorch"
        ],
        "id": "4i7u3Aony9LK",
        "outputId": "fe9ef59a-4817-43ca-88fc-cffb8118de3d"
      },
      "outputs": [
        {
          "name": "stdout",
          "output_type": "stream",
          "text": [
            "underflow: 0.0\n",
            "logarithm is normal: -1805.2267129073316\n"
          ]
        }
      ],
      "source": [
        "a = 0.1\n",
        "print('underflow:', a**784)\n",
        "print('logarithm is normal:', 784*math.log(a))"
      ]
    },
    {
      "cell_type": "markdown",
      "metadata": {
        "origin_pos": 40,
        "id": "UPFnhzA4y9LK"
      },
      "source": [
        "Since the logarithm is an increasing function, we can rewrite :eqref:`eq_naive_bayes_estimation` as\n",
        "\n",
        "$$ \\hat{y} = \\mathrm{argmax}_y \\ \\log P_y[y] + \\sum_{i=1}^d \\Big[t_i\\log P_{xy}[x_i, y] + (1-t_i) \\log (1 - P_{xy}[x_i, y]) \\Big].$$\n",
        "\n",
        "We can implement the following stable version:\n"
      ]
    },
    {
      "cell_type": "code",
      "execution_count": null,
      "metadata": {
        "origin_pos": 42,
        "tab": [
          "pytorch"
        ],
        "id": "nbl3YxPVy9LK",
        "outputId": "5cccd353-51ba-4a47-dc88-c41ad2e31f74"
      },
      "outputs": [
        {
          "data": {
            "text/plain": [
              "tensor([-269.0042, -301.7345, -245.2146, -218.8941, -193.4691, -206.1031,\n",
              "        -292.5432, -114.6283, -220.3562, -163.1888])"
            ]
          },
          "execution_count": 12,
          "metadata": {},
          "output_type": "execute_result"
        }
      ],
      "source": [
        "log_P_xy = torch.log(P_xy)\n",
        "log_P_xy_neg = torch.log(1 - P_xy)\n",
        "log_P_y = torch.log(P_y)\n",
        "\n",
        "def bayes_pred_stable(x):\n",
        "    x = x.unsqueeze(0)  # (28, 28) -> (1, 28, 28)\n",
        "    p_xy = log_P_xy * x + log_P_xy_neg * (1 - x)\n",
        "    p_xy = p_xy.reshape(10, -1).sum(axis=1)  # p(x|y)\n",
        "    return p_xy + log_P_y\n",
        "\n",
        "py = bayes_pred_stable(image)\n",
        "py"
      ]
    },
    {
      "cell_type": "markdown",
      "metadata": {
        "origin_pos": 44,
        "id": "KWFjyQiLy9LK"
      },
      "source": [
        "We may now check if the prediction is correct.\n"
      ]
    },
    {
      "cell_type": "code",
      "execution_count": null,
      "metadata": {
        "origin_pos": 46,
        "tab": [
          "pytorch"
        ],
        "id": "B9gIwooWy9LK",
        "outputId": "6d8cfdd6-0c09-4fb2-fde1-d535e07e931c"
      },
      "outputs": [
        {
          "data": {
            "text/plain": [
              "tensor(True)"
            ]
          },
          "execution_count": 13,
          "metadata": {},
          "output_type": "execute_result"
        }
      ],
      "source": [
        "py.argmax(dim=0) == label"
      ]
    },
    {
      "cell_type": "markdown",
      "metadata": {
        "origin_pos": 48,
        "id": "LNIWro7by9LL"
      },
      "source": [
        "If we now predict a few validation examples, we can see the Bayes\n",
        "classifier works pretty well.\n"
      ]
    },
    {
      "cell_type": "code",
      "execution_count": null,
      "metadata": {
        "origin_pos": 50,
        "tab": [
          "pytorch"
        ],
        "id": "kHauNBL1y9LL",
        "outputId": "d981d6d4-fc46-4362-aff7-a04451cfd20b"
      },
      "outputs": [
        {
          "data": {
            "image/svg+xml": [
              "<?xml version=\"1.0\" encoding=\"utf-8\" standalone=\"no\"?>\n",
              "<!DOCTYPE svg PUBLIC \"-//W3C//DTD SVG 1.1//EN\"\n",
              "  \"http://www.w3.org/Graphics/SVG/1.1/DTD/svg11.dtd\">\n",
              "<svg xmlns:xlink=\"http://www.w3.org/1999/xlink\" width=\"771.2pt\" height=\"193.03689pt\" viewBox=\"0 0 771.2 193.03689\" xmlns=\"http://www.w3.org/2000/svg\" version=\"1.1\">\n",
              " <metadata>\n",
              "  <rdf:RDF xmlns:dc=\"http://purl.org/dc/elements/1.1/\" xmlns:cc=\"http://creativecommons.org/ns#\" xmlns:rdf=\"http://www.w3.org/1999/02/22-rdf-syntax-ns#\">\n",
              "   <cc:Work>\n",
              "    <dc:type rdf:resource=\"http://purl.org/dc/dcmitype/StillImage\"/>\n",
              "    <dc:date>2022-03-24T11:41:15.071878</dc:date>\n",
              "    <dc:format>image/svg+xml</dc:format>\n",
              "    <dc:creator>\n",
              "     <cc:Agent>\n",
              "      <dc:title>Matplotlib v3.5.1, https://matplotlib.org/</dc:title>\n",
              "     </cc:Agent>\n",
              "    </dc:creator>\n",
              "   </cc:Work>\n",
              "  </rdf:RDF>\n",
              " </metadata>\n",
              " <defs>\n",
              "  <style type=\"text/css\">*{stroke-linejoin: round; stroke-linecap: butt}</style>\n",
              " </defs>\n",
              " <g id=\"figure_1\">\n",
              "  <g id=\"patch_1\">\n",
              "   <path d=\"M 0 193.03689 \n",
              "L 771.2 193.03689 \n",
              "L 771.2 -0 \n",
              "L 0 -0 \n",
              "L 0 193.03689 \n",
              "z\n",
              "\" style=\"fill: none\"/>\n",
              "  </g>\n",
              "  <g id=\"axes_1\">\n",
              "   <g id=\"patch_2\">\n",
              "    <path d=\"M 10.7 93.384163 \n",
              "L 81.766038 93.384163 \n",
              "L 81.766038 22.318125 \n",
              "L 10.7 22.318125 \n",
              "z\n",
              "\" style=\"fill: #ffffff\"/>\n",
              "   </g>\n",
              "   <g clip-path=\"url(#p914a1c34dd)\">\n",
              "    <image xlink:href=\"data:image/png;base64,\n",
              "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\" id=\"image3551dbef83\" transform=\"scale(1 -1)translate(0 -72)\" x=\"10.7\" y=\"-21.384163\" width=\"72\" height=\"72\"/>\n",
              "   </g>\n",
              "   <g id=\"patch_3\">\n",
              "    <path d=\"M 10.7 93.384163 \n",
              "L 10.7 22.318125 \n",
              "\" style=\"fill: none; stroke: #000000; stroke-width: 0.8; stroke-linejoin: miter; stroke-linecap: square\"/>\n",
              "   </g>\n",
              "   <g id=\"patch_4\">\n",
              "    <path d=\"M 81.766038 93.384163 \n",
              "L 81.766038 22.318125 \n",
              "\" style=\"fill: none; stroke: #000000; stroke-width: 0.8; stroke-linejoin: miter; stroke-linecap: square\"/>\n",
              "   </g>\n",
              "   <g id=\"patch_5\">\n",
              "    <path d=\"M 10.7 93.384163 \n",
              "L 81.766038 93.384163 \n",
              "\" style=\"fill: none; stroke: #000000; stroke-width: 0.8; stroke-linejoin: miter; stroke-linecap: square\"/>\n",
              "   </g>\n",
              "   <g id=\"patch_6\">\n",
              "    <path d=\"M 10.7 22.318125 \n",
              "L 81.766038 22.318125 \n",
              "\" style=\"fill: none; stroke: #000000; stroke-width: 0.8; stroke-linejoin: miter; stroke-linecap: square\"/>\n",
              "   </g>\n",
              "   <g id=\"text_1\">\n",
              "    <!-- 7 -->\n",
              "    <g transform=\"translate(42.415519 16.318125)scale(0.12 -0.12)\">\n",
              "     <defs>\n",
              "      <path id=\"DejaVuSans-37\" d=\"M 525 4666 \n",
              "L 3525 4666 \n",
              "L 3525 4397 \n",
              "L 1831 0 \n",
              "L 1172 0 \n",
              "L 2766 4134 \n",
              "L 525 4134 \n",
              "L 525 4666 \n",
              "z\n",
              "\" transform=\"scale(0.015625)\"/>\n",
              "     </defs>\n",
              "     <use xlink:href=\"#DejaVuSans-37\"/>\n",
              "    </g>\n",
              "   </g>\n",
              "  </g>\n",
              "  <g id=\"axes_2\">\n",
              "   <g id=\"patch_7\">\n",
              "    <path d=\"M 95.979245 93.384163 \n",
              "L 167.045283 93.384163 \n",
              "L 167.045283 22.318125 \n",
              "L 95.979245 22.318125 \n",
              "z\n",
              "\" style=\"fill: #ffffff\"/>\n",
              "   </g>\n",
              "   <g clip-path=\"url(#p1a08802229)\">\n",
              "    <image xlink:href=\"data:image/png;base64,\n",
              "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\" id=\"imagec602dbe056\" transform=\"scale(1 -1)translate(0 -72)\" x=\"95.979245\" y=\"-21.384163\" width=\"72\" height=\"72\"/>\n",
              "   </g>\n",
              "   <g id=\"patch_8\">\n",
              "    <path d=\"M 95.979245 93.384163 \n",
              "L 95.979245 22.318125 \n",
              "\" style=\"fill: none; stroke: #000000; stroke-width: 0.8; stroke-linejoin: miter; stroke-linecap: square\"/>\n",
              "   </g>\n",
              "   <g id=\"patch_9\">\n",
              "    <path d=\"M 167.045283 93.384163 \n",
              "L 167.045283 22.318125 \n",
              "\" style=\"fill: none; stroke: #000000; stroke-width: 0.8; stroke-linejoin: miter; stroke-linecap: square\"/>\n",
              "   </g>\n",
              "   <g id=\"patch_10\">\n",
              "    <path d=\"M 95.979245 93.384163 \n",
              "L 167.045283 93.384163 \n",
              "\" style=\"fill: none; stroke: #000000; stroke-width: 0.8; stroke-linejoin: miter; stroke-linecap: square\"/>\n",
              "   </g>\n",
              "   <g id=\"patch_11\">\n",
              "    <path d=\"M 95.979245 22.318125 \n",
              "L 167.045283 22.318125 \n",
              "\" style=\"fill: none; stroke: #000000; stroke-width: 0.8; stroke-linejoin: miter; stroke-linecap: square\"/>\n",
              "   </g>\n",
              "   <g id=\"text_2\">\n",
              "    <!-- 2 -->\n",
              "    <g transform=\"translate(127.694764 16.318125)scale(0.12 -0.12)\">\n",
              "     <defs>\n",
              "      <path id=\"DejaVuSans-32\" d=\"M 1228 531 \n",
              "L 3431 531 \n",
              "L 3431 0 \n",
              "L 469 0 \n",
              "L 469 531 \n",
              "Q 828 903 1448 1529 \n",
              "Q 2069 2156 2228 2338 \n",
              "Q 2531 2678 2651 2914 \n",
              "Q 2772 3150 2772 3378 \n",
              "Q 2772 3750 2511 3984 \n",
              "Q 2250 4219 1831 4219 \n",
              "Q 1534 4219 1204 4116 \n",
              "Q 875 4013 500 3803 \n",
              "L 500 4441 \n",
              "Q 881 4594 1212 4672 \n",
              "Q 1544 4750 1819 4750 \n",
              "Q 2544 4750 2975 4387 \n",
              "Q 3406 4025 3406 3419 \n",
              "Q 3406 3131 3298 2873 \n",
              "Q 3191 2616 2906 2266 \n",
              "Q 2828 2175 2409 1742 \n",
              "Q 1991 1309 1228 531 \n",
              "z\n",
              "\" transform=\"scale(0.015625)\"/>\n",
              "     </defs>\n",
              "     <use xlink:href=\"#DejaVuSans-32\"/>\n",
              "    </g>\n",
              "   </g>\n",
              "  </g>\n",
              "  <g id=\"axes_3\">\n",
              "   <g id=\"patch_12\">\n",
              "    <path d=\"M 181.258491 93.384163 \n",
              "L 252.324528 93.384163 \n",
              "L 252.324528 22.318125 \n",
              "L 181.258491 22.318125 \n",
              "z\n",
              "\" style=\"fill: #ffffff\"/>\n",
              "   </g>\n",
              "   <g clip-path=\"url(#p3083abed87)\">\n",
              "    <image xlink:href=\"data:image/png;base64,\n",
              "iVBORw0KGgoAAAANSUhEUgAAAEgAAABICAYAAABV7bNHAAAEL0lEQVR4nO2aS2xUVRjHf/cx03baGTqt6agttCRUaAspaUAQjPEV4zOxEUOCLnQBiSbqxgY3aKJG48IYgyguFBNjiLLTEFdExahURFoiNoVSgfqgU0ttpzOdO3MfLmxqScBTTTznNDm/5d2cf373fN/57s2xbre2RBiuiK06gO4YQQKMIAFGkAAjSIARJMAIEmAECXClrmY7OHW1WNWJv5+FEdHkFMHUlNQoC0WqIKe+jpFHW/HX57Csvwb4khej4ZMmkh8dhTCQGWdBSBVk1SSwNk0wcP3+uWc/lae5c7iHlG0RhTLTLAzlPcixVCf4Z5QL0h0tBIUxsNNp7GQSbEd1nEuQe4pdhjrbZcNNA3yVbqXqfIyWA6MEp86ojjWH8h1UY1eyr/kQJ+/Zw833f4+3tFZ1pEuQK6hUJn92CTtH1/LeVAMTQQGAmOWQsONU2SUizZq2VEHB7+Nct2+Sb59Zx8sHHqDXS8tc/j8htQdFnkfUP0C8H2obbiDrJwFPZoR/jfIepDtGkACtBNXH8uSWxbE723AbrwVLfcfWSlB36jjrHztO6dU8I1tbsKuqVEdSPyjOpy2e4M3GI0xfU2TN0JNYrvp4ynZQ6nyR577opuu7reyeaCbQ8VMehYLco4O0v/ArmWcdXu+7FR/9/gWBwhILCwXCQgEnXyDIr1AVQ4hWTVpHjCABRpAAI0iAFoKsss05v0Q2yFOOAmxscEOs9BLsZFLpPKRcUFgo0HgI7nv/aTZ+9gSHZhLELIctXcf4cVeG4Z2roXOlsnyWFjfMbAfLcSje0cmmF3t5KXOCchRQjgLemWxl//N3kfzwiJJo6md5gDAgCgMsPyKY3dQxy5n90+iBwm9W5SWmO0aQACNIgBEkQCtBbiHgm+xyPsjV0+d5BFFI0plhutHGXtuO27xU+kykxzE/i5NpoLCumcJVLrl7p/l649vko5Dd4zfSP9HIucPNLN9zmmBsTFomPY75WYLRLBUHs1RWVPDHyi6KG0Ka3BpeyfRBpo/2iw9jJSqlZtKqxHTECBJgBAkwggQYQQL0FBQEJM/CtsGH2D6ymWNeSVkULQVFvs/VHw9T2VPNydfWsDd7i7IsWs1B8/EvjMKFUVJOB2PFGgBcNyBMVuOkUoQzRaLy/7+ztNxBV+KRFb0M9iQ4tasDf/NqKWsuKkFPpYf44ba9vNH9LuMdciZqbUvscjiWTcKKk7A9IkmvdlHtIBUsCkGl0MGLypQj+RcctBfkZCcZ+bSFVQcf58Ghu/nNn5a6vvY9yP/5F5remsSKxzi9YxUjOyqkrq+9IKKIMJcDwC1CKKs7z6J9ianGCBKgf4nNo3bIZ9uX2yGyWHamLGXNRSUo8fkAbSdqIYwIL04g49rnohIU5nJzDVsWpgcJMIIEGEECjCABRpAAI0iAESTACBLwJ7rZOCtm93kQAAAAAElFTkSuQmCC\" id=\"imagede80775ac6\" transform=\"scale(1 -1)translate(0 -72)\" x=\"181.258491\" y=\"-21.384163\" width=\"72\" height=\"72\"/>\n",
              "   </g>\n",
              "   <g id=\"patch_13\">\n",
              "    <path d=\"M 181.258491 93.384163 \n",
              "L 181.258491 22.318125 \n",
              "\" style=\"fill: none; stroke: #000000; stroke-width: 0.8; stroke-linejoin: miter; stroke-linecap: square\"/>\n",
              "   </g>\n",
              "   <g id=\"patch_14\">\n",
              "    <path d=\"M 252.324528 93.384163 \n",
              "L 252.324528 22.318125 \n",
              "\" style=\"fill: none; stroke: #000000; stroke-width: 0.8; stroke-linejoin: miter; stroke-linecap: square\"/>\n",
              "   </g>\n",
              "   <g id=\"patch_15\">\n",
              "    <path d=\"M 181.258491 93.384163 \n",
              "L 252.324528 93.384163 \n",
              "\" style=\"fill: none; stroke: #000000; stroke-width: 0.8; stroke-linejoin: miter; stroke-linecap: square\"/>\n",
              "   </g>\n",
              "   <g id=\"patch_16\">\n",
              "    <path d=\"M 181.258491 22.318125 \n",
              "L 252.324528 22.318125 \n",
              "\" style=\"fill: none; stroke: #000000; stroke-width: 0.8; stroke-linejoin: miter; stroke-linecap: square\"/>\n",
              "   </g>\n",
              "   <g id=\"text_3\">\n",
              "    <!-- 1 -->\n",
              "    <g transform=\"translate(212.974009 16.318125)scale(0.12 -0.12)\">\n",
              "     <defs>\n",
              "      <path id=\"DejaVuSans-31\" d=\"M 794 531 \n",
              "L 1825 531 \n",
              "L 1825 4091 \n",
              "L 703 3866 \n",
              "L 703 4441 \n",
              "L 1819 4666 \n",
              "L 2450 4666 \n",
              "L 2450 531 \n",
              "L 3481 531 \n",
              "L 3481 0 \n",
              "L 794 0 \n",
              "L 794 531 \n",
              "z\n",
              "\" transform=\"scale(0.015625)\"/>\n",
              "     </defs>\n",
              "     <use xlink:href=\"#DejaVuSans-31\"/>\n",
              "    </g>\n",
              "   </g>\n",
              "  </g>\n",
              "  <g id=\"axes_4\">\n",
              "   <g id=\"patch_17\">\n",
              "    <path d=\"M 266.537736 93.384163 \n",
              "L 337.603774 93.384163 \n",
              "L 337.603774 22.318125 \n",
              "L 266.537736 22.318125 \n",
              "z\n",
              "\" style=\"fill: #ffffff\"/>\n",
              "   </g>\n",
              "   <g clip-path=\"url(#p44d5ee153f)\">\n",
              "    <image xlink:href=\"data:image/png;base64,\n",
              "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\" id=\"image9b95a4ce5d\" transform=\"scale(1 -1)translate(0 -72)\" x=\"266.537736\" y=\"-21.384163\" width=\"72\" height=\"72\"/>\n",
              "   </g>\n",
              "   <g id=\"patch_18\">\n",
              "    <path d=\"M 266.537736 93.384163 \n",
              "L 266.537736 22.318125 \n",
              "\" style=\"fill: none; stroke: #000000; stroke-width: 0.8; stroke-linejoin: miter; stroke-linecap: square\"/>\n",
              "   </g>\n",
              "   <g id=\"patch_19\">\n",
              "    <path d=\"M 337.603774 93.384163 \n",
              "L 337.603774 22.318125 \n",
              "\" style=\"fill: none; stroke: #000000; stroke-width: 0.8; stroke-linejoin: miter; stroke-linecap: square\"/>\n",
              "   </g>\n",
              "   <g id=\"patch_20\">\n",
              "    <path d=\"M 266.537736 93.384163 \n",
              "L 337.603774 93.384163 \n",
              "\" style=\"fill: none; stroke: #000000; stroke-width: 0.8; stroke-linejoin: miter; stroke-linecap: square\"/>\n",
              "   </g>\n",
              "   <g id=\"patch_21\">\n",
              "    <path d=\"M 266.537736 22.318125 \n",
              "L 337.603774 22.318125 \n",
              "\" style=\"fill: none; stroke: #000000; stroke-width: 0.8; stroke-linejoin: miter; stroke-linecap: square\"/>\n",
              "   </g>\n",
              "   <g id=\"text_4\">\n",
              "    <!-- 0 -->\n",
              "    <g transform=\"translate(298.253255 16.318125)scale(0.12 -0.12)\">\n",
              "     <defs>\n",
              "      <path id=\"DejaVuSans-30\" d=\"M 2034 4250 \n",
              "Q 1547 4250 1301 3770 \n",
              "Q 1056 3291 1056 2328 \n",
              "Q 1056 1369 1301 889 \n",
              "Q 1547 409 2034 409 \n",
              "Q 2525 409 2770 889 \n",
              "Q 3016 1369 3016 2328 \n",
              "Q 3016 3291 2770 3770 \n",
              "Q 2525 4250 2034 4250 \n",
              "z\n",
              "M 2034 4750 \n",
              "Q 2819 4750 3233 4129 \n",
              "Q 3647 3509 3647 2328 \n",
              "Q 3647 1150 3233 529 \n",
              "Q 2819 -91 2034 -91 \n",
              "Q 1250 -91 836 529 \n",
              "Q 422 1150 422 2328 \n",
              "Q 422 3509 836 4129 \n",
              "Q 1250 4750 2034 4750 \n",
              "z\n",
              "\" transform=\"scale(0.015625)\"/>\n",
              "     </defs>\n",
              "     <use xlink:href=\"#DejaVuSans-30\"/>\n",
              "    </g>\n",
              "   </g>\n",
              "  </g>\n",
              "  <g id=\"axes_5\">\n",
              "   <g id=\"patch_22\">\n",
              "    <path d=\"M 351.816981 93.384163 \n",
              "L 422.883019 93.384163 \n",
              "L 422.883019 22.318125 \n",
              "L 351.816981 22.318125 \n",
              "z\n",
              "\" style=\"fill: #ffffff\"/>\n",
              "   </g>\n",
              "   <g clip-path=\"url(#p76fa488b73)\">\n",
              "    <image xlink:href=\"data:image/png;base64,\n",
              "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\" id=\"image59ce30c5c6\" transform=\"scale(1 -1)translate(0 -72)\" x=\"351.816981\" y=\"-21.384163\" width=\"72\" height=\"72\"/>\n",
              "   </g>\n",
              "   <g id=\"patch_23\">\n",
              "    <path d=\"M 351.816981 93.384163 \n",
              "L 351.816981 22.318125 \n",
              "\" style=\"fill: none; stroke: #000000; stroke-width: 0.8; stroke-linejoin: miter; stroke-linecap: square\"/>\n",
              "   </g>\n",
              "   <g id=\"patch_24\">\n",
              "    <path d=\"M 422.883019 93.384163 \n",
              "L 422.883019 22.318125 \n",
              "\" style=\"fill: none; stroke: #000000; stroke-width: 0.8; stroke-linejoin: miter; stroke-linecap: square\"/>\n",
              "   </g>\n",
              "   <g id=\"patch_25\">\n",
              "    <path d=\"M 351.816981 93.384163 \n",
              "L 422.883019 93.384163 \n",
              "\" style=\"fill: none; stroke: #000000; stroke-width: 0.8; stroke-linejoin: miter; stroke-linecap: square\"/>\n",
              "   </g>\n",
              "   <g id=\"patch_26\">\n",
              "    <path d=\"M 351.816981 22.318125 \n",
              "L 422.883019 22.318125 \n",
              "\" style=\"fill: none; stroke: #000000; stroke-width: 0.8; stroke-linejoin: miter; stroke-linecap: square\"/>\n",
              "   </g>\n",
              "   <g id=\"text_5\">\n",
              "    <!-- 4 -->\n",
              "    <g transform=\"translate(383.5325 16.318125)scale(0.12 -0.12)\">\n",
              "     <defs>\n",
              "      <path id=\"DejaVuSans-34\" d=\"M 2419 4116 \n",
              "L 825 1625 \n",
              "L 2419 1625 \n",
              "L 2419 4116 \n",
              "z\n",
              "M 2253 4666 \n",
              "L 3047 4666 \n",
              "L 3047 1625 \n",
              "L 3713 1625 \n",
              "L 3713 1100 \n",
              "L 3047 1100 \n",
              "L 3047 0 \n",
              "L 2419 0 \n",
              "L 2419 1100 \n",
              "L 313 1100 \n",
              "L 313 1709 \n",
              "L 2253 4666 \n",
              "z\n",
              "\" transform=\"scale(0.015625)\"/>\n",
              "     </defs>\n",
              "     <use xlink:href=\"#DejaVuSans-34\"/>\n",
              "    </g>\n",
              "   </g>\n",
              "  </g>\n",
              "  <g id=\"axes_6\">\n",
              "   <g id=\"patch_27\">\n",
              "    <path d=\"M 437.096226 93.384163 \n",
              "L 508.162264 93.384163 \n",
              "L 508.162264 22.318125 \n",
              "L 437.096226 22.318125 \n",
              "z\n",
              "\" style=\"fill: #ffffff\"/>\n",
              "   </g>\n",
              "   <g clip-path=\"url(#p8f5841a1cb)\">\n",
              "    <image xlink:href=\"data:image/png;base64,\n",
              "iVBORw0KGgoAAAANSUhEUgAAAEgAAABICAYAAABV7bNHAAAEuElEQVR4nO2bW2xURRyHv3Nmt9ulLVt6paUrFHpZAwoRClYRQ+RBJfoi8GaCGIiREJWQ4IM+GoOJiT4YEk20iSYGibyAl2BiAokEiDE0gGtbWHqntNC69EK3Z88ZH8BiBTqRuOcMyXyPOw/zy7dz+Z85c6wN1iaJ4Z7YQQfQHSNIgRGkwAhSYAQpMIIUhILqWNQvZmhtJdmoRcVvY3DqLEj9Ko7ARlB6RTnNO39lzxsH6F1fiCVEUFFmxV9BtkCUlRJaGGeiUrB2bjtPR7uYLPcQD9UQml+JFc7zNZIKX6eYKC2h55V6sk2jPFLVRlOkjxI7j03rT3Jk4VIyqSoaWoZxz7f5GWtWfBVkFc7BemKE5Oqvb/1SCMC+yjPsqzzDm4tWcfbH5YTO+5lqdrTaxQQe0go6xUy0EqQjRpACI0iBEaTAX0FTDuOdMfZeWUHL9QpG3Alfu78ffBXkXr1GwxdpTr+9ivcPvsSpzDw/u78vfK2DZCaDbE2S1wrFFc0MZouAzHS7bUlkyMYKhZCeBM/1M95d0WoNeqqojc4tks53VzO5caUWjx2BPc3fjefmjNK04SOGPcELxW+ROJaP60wFmkkrQWFLUBUqpMibREa8oOMAmk0xHTGCFBhBCowgBYEJCmUkreMPcTrjcDk7NqPNxsaKZiFeRWhBNXZ+fkApwQrq3bxoWMLgugpulFvUP3uRg3XfE7Zunku70uPjkTpaLqxhtL+I+q8yWCdag4gZ3Dbvtl+ktP0iorSE1toleHUecFOQsGx2l6TYvTrFp+lqWo6/SNGJYHIGvwZ5sw9gQbD1UPCCNMcIUmAEKTCCFAQvyHXJ7wuzd6CZT/6M31ETlYeuM9Jgk31mJWJpo+9HIIHVQdPYAtG4mMl4jKFH83ht22F2FvdMN191xzk0Vs/vE9Uc+bmJxg9TZAeu+BYv+OMOz8VNdhBOQpm1iu5MKXBbUJkoYEesH2L9HK1NQMTfERT8FNMcI0iBEaTACFJgBCl4oAQ9Gb/EpZfjXNvejL0s4UufwW/z/4H3qo+S2nacY+MJDsoNlJ7LfZ9ajSAx5dExWs7JSZfuf1XUABWigMfzBc0FHWSj/ty00kpQ5MIgfZ/VsX3/Lrac20rauxF0JL2mWLanl+Ive5kXiZCa9xgTy1xiAf+FWo0gHTGCFOgpyJPYjkVXNsqgO05GOjOaBR5uBERxDLugAKzcLdharUF/I12X6l+m2MouMvMd3ll3mFdjA9PtC0MTLHi+i2RdI3PbQtR800m2rz8nWYI/D7oXtsASArkyQcEHlzlU99OMZke6ONJlY3Iz+Xvm4LUmcxJDyxEEgOciPRfLcfHknStB2BKELUGe7eZ0ium5BmnEAyFoyhNkpIMjb99ZdKRLRjpkpZ3T78z0nWK3EINpun9YRKLjdZY3drO/9lsAtqc2c769hqK2MPGrnTl7/6q9oGxvHzX701h5YTp2JOjZEcGRgq7vann48z+QUw7ZsTuf2/4vtBeElHijowBEhyQHhtfgSEF0SOJeG8559/oL+gcVxwc5mW7CklB2ZgA/blHrWwdpwgOxiwWJEaTACFJgBCkwghQYQQqMIAVGkAIjSIERpMAIUvAXmApztnPHBtoAAAAASUVORK5CYII=\" id=\"image95fabbf4ba\" transform=\"scale(1 -1)translate(0 -72)\" x=\"437.096226\" y=\"-21.384163\" width=\"72\" height=\"72\"/>\n",
              "   </g>\n",
              "   <g id=\"patch_28\">\n",
              "    <path d=\"M 437.096226 93.384163 \n",
              "L 437.096226 22.318125 \n",
              "\" style=\"fill: none; stroke: #000000; stroke-width: 0.8; stroke-linejoin: miter; stroke-linecap: square\"/>\n",
              "   </g>\n",
              "   <g id=\"patch_29\">\n",
              "    <path d=\"M 508.162264 93.384163 \n",
              "L 508.162264 22.318125 \n",
              "\" style=\"fill: none; stroke: #000000; stroke-width: 0.8; stroke-linejoin: miter; stroke-linecap: square\"/>\n",
              "   </g>\n",
              "   <g id=\"patch_30\">\n",
              "    <path d=\"M 437.096226 93.384163 \n",
              "L 508.162264 93.384163 \n",
              "\" style=\"fill: none; stroke: #000000; stroke-width: 0.8; stroke-linejoin: miter; stroke-linecap: square\"/>\n",
              "   </g>\n",
              "   <g id=\"patch_31\">\n",
              "    <path d=\"M 437.096226 22.318125 \n",
              "L 508.162264 22.318125 \n",
              "\" style=\"fill: none; stroke: #000000; stroke-width: 0.8; stroke-linejoin: miter; stroke-linecap: square\"/>\n",
              "   </g>\n",
              "   <g id=\"text_6\">\n",
              "    <!-- 1 -->\n",
              "    <g transform=\"translate(468.811745 16.318125)scale(0.12 -0.12)\">\n",
              "     <use xlink:href=\"#DejaVuSans-31\"/>\n",
              "    </g>\n",
              "   </g>\n",
              "  </g>\n",
              "  <g id=\"axes_7\">\n",
              "   <g id=\"patch_32\">\n",
              "    <path d=\"M 522.375472 93.384163 \n",
              "L 593.441509 93.384163 \n",
              "L 593.441509 22.318125 \n",
              "L 522.375472 22.318125 \n",
              "z\n",
              "\" style=\"fill: #ffffff\"/>\n",
              "   </g>\n",
              "   <g clip-path=\"url(#p820f6644d7)\">\n",
              "    <image xlink:href=\"data:image/png;base64,\n",
              "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\" id=\"imagee3fe28fb3a\" transform=\"scale(1 -1)translate(0 -72)\" x=\"522.375472\" y=\"-21.384163\" width=\"72\" height=\"72\"/>\n",
              "   </g>\n",
              "   <g id=\"patch_33\">\n",
              "    <path d=\"M 522.375472 93.384163 \n",
              "L 522.375472 22.318125 \n",
              "\" style=\"fill: none; stroke: #000000; stroke-width: 0.8; stroke-linejoin: miter; stroke-linecap: square\"/>\n",
              "   </g>\n",
              "   <g id=\"patch_34\">\n",
              "    <path d=\"M 593.441509 93.384163 \n",
              "L 593.441509 22.318125 \n",
              "\" style=\"fill: none; stroke: #000000; stroke-width: 0.8; stroke-linejoin: miter; stroke-linecap: square\"/>\n",
              "   </g>\n",
              "   <g id=\"patch_35\">\n",
              "    <path d=\"M 522.375472 93.384163 \n",
              "L 593.441509 93.384163 \n",
              "\" style=\"fill: none; stroke: #000000; stroke-width: 0.8; stroke-linejoin: miter; stroke-linecap: square\"/>\n",
              "   </g>\n",
              "   <g id=\"patch_36\">\n",
              "    <path d=\"M 522.375472 22.318125 \n",
              "L 593.441509 22.318125 \n",
              "\" style=\"fill: none; stroke: #000000; stroke-width: 0.8; stroke-linejoin: miter; stroke-linecap: square\"/>\n",
              "   </g>\n",
              "   <g id=\"text_7\">\n",
              "    <!-- 4 -->\n",
              "    <g transform=\"translate(554.090991 16.318125)scale(0.12 -0.12)\">\n",
              "     <use xlink:href=\"#DejaVuSans-34\"/>\n",
              "    </g>\n",
              "   </g>\n",
              "  </g>\n",
              "  <g id=\"axes_8\">\n",
              "   <g id=\"patch_37\">\n",
              "    <path d=\"M 607.654717 93.384163 \n",
              "L 678.720755 93.384163 \n",
              "L 678.720755 22.318125 \n",
              "L 607.654717 22.318125 \n",
              "z\n",
              "\" style=\"fill: #ffffff\"/>\n",
              "   </g>\n",
              "   <g clip-path=\"url(#p00986a4813)\">\n",
              "    <image xlink:href=\"data:image/png;base64,\n",
              "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\" id=\"imagead6519bcba\" transform=\"scale(1 -1)translate(0 -72)\" x=\"607.654717\" y=\"-21.384163\" width=\"72\" height=\"72\"/>\n",
              "   </g>\n",
              "   <g id=\"patch_38\">\n",
              "    <path d=\"M 607.654717 93.384163 \n",
              "L 607.654717 22.318125 \n",
              "\" style=\"fill: none; stroke: #000000; stroke-width: 0.8; stroke-linejoin: miter; stroke-linecap: square\"/>\n",
              "   </g>\n",
              "   <g id=\"patch_39\">\n",
              "    <path d=\"M 678.720755 93.384163 \n",
              "L 678.720755 22.318125 \n",
              "\" style=\"fill: none; stroke: #000000; stroke-width: 0.8; stroke-linejoin: miter; stroke-linecap: square\"/>\n",
              "   </g>\n",
              "   <g id=\"patch_40\">\n",
              "    <path d=\"M 607.654717 93.384163 \n",
              "L 678.720755 93.384163 \n",
              "\" style=\"fill: none; stroke: #000000; stroke-width: 0.8; stroke-linejoin: miter; stroke-linecap: square\"/>\n",
              "   </g>\n",
              "   <g id=\"patch_41\">\n",
              "    <path d=\"M 607.654717 22.318125 \n",
              "L 678.720755 22.318125 \n",
              "\" style=\"fill: none; stroke: #000000; stroke-width: 0.8; stroke-linejoin: miter; stroke-linecap: square\"/>\n",
              "   </g>\n",
              "   <g id=\"text_8\">\n",
              "    <!-- 9 -->\n",
              "    <g transform=\"translate(639.370236 16.318125)scale(0.12 -0.12)\">\n",
              "     <defs>\n",
              "      <path id=\"DejaVuSans-39\" d=\"M 703 97 \n",
              "L 703 672 \n",
              "Q 941 559 1184 500 \n",
              "Q 1428 441 1663 441 \n",
              "Q 2288 441 2617 861 \n",
              "Q 2947 1281 2994 2138 \n",
              "Q 2813 1869 2534 1725 \n",
              "Q 2256 1581 1919 1581 \n",
              "Q 1219 1581 811 2004 \n",
              "Q 403 2428 403 3163 \n",
              "Q 403 3881 828 4315 \n",
              "Q 1253 4750 1959 4750 \n",
              "Q 2769 4750 3195 4129 \n",
              "Q 3622 3509 3622 2328 \n",
              "Q 3622 1225 3098 567 \n",
              "Q 2575 -91 1691 -91 \n",
              "Q 1453 -91 1209 -44 \n",
              "Q 966 3 703 97 \n",
              "z\n",
              "M 1959 2075 \n",
              "Q 2384 2075 2632 2365 \n",
              "Q 2881 2656 2881 3163 \n",
              "Q 2881 3666 2632 3958 \n",
              "Q 2384 4250 1959 4250 \n",
              "Q 1534 4250 1286 3958 \n",
              "Q 1038 3666 1038 3163 \n",
              "Q 1038 2656 1286 2365 \n",
              "Q 1534 2075 1959 2075 \n",
              "z\n",
              "\" transform=\"scale(0.015625)\"/>\n",
              "     </defs>\n",
              "     <use xlink:href=\"#DejaVuSans-39\"/>\n",
              "    </g>\n",
              "   </g>\n",
              "  </g>\n",
              "  <g id=\"axes_9\">\n",
              "   <g id=\"patch_42\">\n",
              "    <path d=\"M 692.933962 93.384163 \n",
              "L 764 93.384163 \n",
              "L 764 22.318125 \n",
              "L 692.933962 22.318125 \n",
              "z\n",
              "\" style=\"fill: #ffffff\"/>\n",
              "   </g>\n",
              "   <g clip-path=\"url(#p6e0d11b417)\">\n",
              "    <image xlink:href=\"data:image/png;base64,\n",
              "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\" id=\"image7b8e3b39c3\" transform=\"scale(1 -1)translate(0 -72)\" x=\"692.933962\" y=\"-21.384163\" width=\"72\" height=\"72\"/>\n",
              "   </g>\n",
              "   <g id=\"patch_43\">\n",
              "    <path d=\"M 692.933962 93.384163 \n",
              "L 692.933962 22.318125 \n",
              "\" style=\"fill: none; stroke: #000000; stroke-width: 0.8; stroke-linejoin: miter; stroke-linecap: square\"/>\n",
              "   </g>\n",
              "   <g id=\"patch_44\">\n",
              "    <path d=\"M 764 93.384163 \n",
              "L 764 22.318125 \n",
              "\" style=\"fill: none; stroke: #000000; stroke-width: 0.8; stroke-linejoin: miter; stroke-linecap: square\"/>\n",
              "   </g>\n",
              "   <g id=\"patch_45\">\n",
              "    <path d=\"M 692.933962 93.384163 \n",
              "L 764 93.384163 \n",
              "\" style=\"fill: none; stroke: #000000; stroke-width: 0.8; stroke-linejoin: miter; stroke-linecap: square\"/>\n",
              "   </g>\n",
              "   <g id=\"patch_46\">\n",
              "    <path d=\"M 692.933962 22.318125 \n",
              "L 764 22.318125 \n",
              "\" style=\"fill: none; stroke: #000000; stroke-width: 0.8; stroke-linejoin: miter; stroke-linecap: square\"/>\n",
              "   </g>\n",
              "   <g id=\"text_9\">\n",
              "    <!-- 4 -->\n",
              "    <g transform=\"translate(724.649481 16.318125)scale(0.12 -0.12)\">\n",
              "     <use xlink:href=\"#DejaVuSans-34\"/>\n",
              "    </g>\n",
              "   </g>\n",
              "  </g>\n",
              "  <g id=\"axes_10\">\n",
              "   <g id=\"patch_47\">\n",
              "    <path d=\"M 10.7 182.33689 \n",
              "L 81.766038 182.33689 \n",
              "L 81.766038 111.270852 \n",
              "L 10.7 111.270852 \n",
              "z\n",
              "\" style=\"fill: #ffffff\"/>\n",
              "   </g>\n",
              "   <g clip-path=\"url(#p114ec20673)\">\n",
              "    <image xlink:href=\"data:image/png;base64,\n",
              "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\" id=\"imagec70ec29daa\" transform=\"scale(1 -1)translate(0 -72)\" x=\"10.7\" y=\"-110.33689\" width=\"72\" height=\"72\"/>\n",
              "   </g>\n",
              "   <g id=\"patch_48\">\n",
              "    <path d=\"M 10.7 182.33689 \n",
              "L 10.7 111.270852 \n",
              "\" style=\"fill: none; stroke: #000000; stroke-width: 0.8; stroke-linejoin: miter; stroke-linecap: square\"/>\n",
              "   </g>\n",
              "   <g id=\"patch_49\">\n",
              "    <path d=\"M 81.766038 182.33689 \n",
              "L 81.766038 111.270852 \n",
              "\" style=\"fill: none; stroke: #000000; stroke-width: 0.8; stroke-linejoin: miter; stroke-linecap: square\"/>\n",
              "   </g>\n",
              "   <g id=\"patch_50\">\n",
              "    <path d=\"M 10.7 182.33689 \n",
              "L 81.766038 182.33689 \n",
              "\" style=\"fill: none; stroke: #000000; stroke-width: 0.8; stroke-linejoin: miter; stroke-linecap: square\"/>\n",
              "   </g>\n",
              "   <g id=\"patch_51\">\n",
              "    <path d=\"M 10.7 111.270852 \n",
              "L 81.766038 111.270852 \n",
              "\" style=\"fill: none; stroke: #000000; stroke-width: 0.8; stroke-linejoin: miter; stroke-linecap: square\"/>\n",
              "   </g>\n",
              "   <g id=\"text_10\">\n",
              "    <!-- 9 -->\n",
              "    <g transform=\"translate(42.415519 105.270852)scale(0.12 -0.12)\">\n",
              "     <use xlink:href=\"#DejaVuSans-39\"/>\n",
              "    </g>\n",
              "   </g>\n",
              "  </g>\n",
              "  <g id=\"axes_11\">\n",
              "   <g id=\"patch_52\">\n",
              "    <path d=\"M 95.979245 182.33689 \n",
              "L 167.045283 182.33689 \n",
              "L 167.045283 111.270852 \n",
              "L 95.979245 111.270852 \n",
              "z\n",
              "\" style=\"fill: #ffffff\"/>\n",
              "   </g>\n",
              "   <g clip-path=\"url(#pf3749df6f1)\">\n",
              "    <image xlink:href=\"data:image/png;base64,\n",
              "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\" id=\"image1dd37fa180\" transform=\"scale(1 -1)translate(0 -72)\" x=\"95.979245\" y=\"-110.33689\" width=\"72\" height=\"72\"/>\n",
              "   </g>\n",
              "   <g id=\"patch_53\">\n",
              "    <path d=\"M 95.979245 182.33689 \n",
              "L 95.979245 111.270852 \n",
              "\" style=\"fill: none; stroke: #000000; stroke-width: 0.8; stroke-linejoin: miter; stroke-linecap: square\"/>\n",
              "   </g>\n",
              "   <g id=\"patch_54\">\n",
              "    <path d=\"M 167.045283 182.33689 \n",
              "L 167.045283 111.270852 \n",
              "\" style=\"fill: none; stroke: #000000; stroke-width: 0.8; stroke-linejoin: miter; stroke-linecap: square\"/>\n",
              "   </g>\n",
              "   <g id=\"patch_55\">\n",
              "    <path d=\"M 95.979245 182.33689 \n",
              "L 167.045283 182.33689 \n",
              "\" style=\"fill: none; stroke: #000000; stroke-width: 0.8; stroke-linejoin: miter; stroke-linecap: square\"/>\n",
              "   </g>\n",
              "   <g id=\"patch_56\">\n",
              "    <path d=\"M 95.979245 111.270852 \n",
              "L 167.045283 111.270852 \n",
              "\" style=\"fill: none; stroke: #000000; stroke-width: 0.8; stroke-linejoin: miter; stroke-linecap: square\"/>\n",
              "   </g>\n",
              "   <g id=\"text_11\">\n",
              "    <!-- 0 -->\n",
              "    <g transform=\"translate(127.694764 105.270852)scale(0.12 -0.12)\">\n",
              "     <use xlink:href=\"#DejaVuSans-30\"/>\n",
              "    </g>\n",
              "   </g>\n",
              "  </g>\n",
              "  <g id=\"axes_12\">\n",
              "   <g id=\"patch_57\">\n",
              "    <path d=\"M 181.258491 182.33689 \n",
              "L 252.324528 182.33689 \n",
              "L 252.324528 111.270852 \n",
              "L 181.258491 111.270852 \n",
              "z\n",
              "\" style=\"fill: #ffffff\"/>\n",
              "   </g>\n",
              "   <g clip-path=\"url(#pbd801aaab0)\">\n",
              "    <image xlink:href=\"data:image/png;base64,\n",
              "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\" id=\"image6e67e5b804\" transform=\"scale(1 -1)translate(0 -72)\" x=\"181.258491\" y=\"-110.33689\" width=\"72\" height=\"72\"/>\n",
              "   </g>\n",
              "   <g id=\"patch_58\">\n",
              "    <path d=\"M 181.258491 182.33689 \n",
              "L 181.258491 111.270852 \n",
              "\" style=\"fill: none; stroke: #000000; stroke-width: 0.8; stroke-linejoin: miter; stroke-linecap: square\"/>\n",
              "   </g>\n",
              "   <g id=\"patch_59\">\n",
              "    <path d=\"M 252.324528 182.33689 \n",
              "L 252.324528 111.270852 \n",
              "\" style=\"fill: none; stroke: #000000; stroke-width: 0.8; stroke-linejoin: miter; stroke-linecap: square\"/>\n",
              "   </g>\n",
              "   <g id=\"patch_60\">\n",
              "    <path d=\"M 181.258491 182.33689 \n",
              "L 252.324528 182.33689 \n",
              "\" style=\"fill: none; stroke: #000000; stroke-width: 0.8; stroke-linejoin: miter; stroke-linecap: square\"/>\n",
              "   </g>\n",
              "   <g id=\"patch_61\">\n",
              "    <path d=\"M 181.258491 111.270852 \n",
              "L 252.324528 111.270852 \n",
              "\" style=\"fill: none; stroke: #000000; stroke-width: 0.8; stroke-linejoin: miter; stroke-linecap: square\"/>\n",
              "   </g>\n",
              "   <g id=\"text_12\">\n",
              "    <!-- 6 -->\n",
              "    <g transform=\"translate(212.974009 105.270852)scale(0.12 -0.12)\">\n",
              "     <defs>\n",
              "      <path id=\"DejaVuSans-36\" d=\"M 2113 2584 \n",
              "Q 1688 2584 1439 2293 \n",
              "Q 1191 2003 1191 1497 \n",
              "Q 1191 994 1439 701 \n",
              "Q 1688 409 2113 409 \n",
              "Q 2538 409 2786 701 \n",
              "Q 3034 994 3034 1497 \n",
              "Q 3034 2003 2786 2293 \n",
              "Q 2538 2584 2113 2584 \n",
              "z\n",
              "M 3366 4563 \n",
              "L 3366 3988 \n",
              "Q 3128 4100 2886 4159 \n",
              "Q 2644 4219 2406 4219 \n",
              "Q 1781 4219 1451 3797 \n",
              "Q 1122 3375 1075 2522 \n",
              "Q 1259 2794 1537 2939 \n",
              "Q 1816 3084 2150 3084 \n",
              "Q 2853 3084 3261 2657 \n",
              "Q 3669 2231 3669 1497 \n",
              "Q 3669 778 3244 343 \n",
              "Q 2819 -91 2113 -91 \n",
              "Q 1303 -91 875 529 \n",
              "Q 447 1150 447 2328 \n",
              "Q 447 3434 972 4092 \n",
              "Q 1497 4750 2381 4750 \n",
              "Q 2619 4750 2861 4703 \n",
              "Q 3103 4656 3366 4563 \n",
              "z\n",
              "\" transform=\"scale(0.015625)\"/>\n",
              "     </defs>\n",
              "     <use xlink:href=\"#DejaVuSans-36\"/>\n",
              "    </g>\n",
              "   </g>\n",
              "  </g>\n",
              "  <g id=\"axes_13\">\n",
              "   <g id=\"patch_62\">\n",
              "    <path d=\"M 266.537736 182.33689 \n",
              "L 337.603774 182.33689 \n",
              "L 337.603774 111.270852 \n",
              "L 266.537736 111.270852 \n",
              "z\n",
              "\" style=\"fill: #ffffff\"/>\n",
              "   </g>\n",
              "   <g clip-path=\"url(#p57386bfa87)\">\n",
              "    <image xlink:href=\"data:image/png;base64,\n",
              "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\" id=\"imageb3fd9a00d3\" transform=\"scale(1 -1)translate(0 -72)\" x=\"266.537736\" y=\"-110.33689\" width=\"72\" height=\"72\"/>\n",
              "   </g>\n",
              "   <g id=\"patch_63\">\n",
              "    <path d=\"M 266.537736 182.33689 \n",
              "L 266.537736 111.270852 \n",
              "\" style=\"fill: none; stroke: #000000; stroke-width: 0.8; stroke-linejoin: miter; stroke-linecap: square\"/>\n",
              "   </g>\n",
              "   <g id=\"patch_64\">\n",
              "    <path d=\"M 337.603774 182.33689 \n",
              "L 337.603774 111.270852 \n",
              "\" style=\"fill: none; stroke: #000000; stroke-width: 0.8; stroke-linejoin: miter; stroke-linecap: square\"/>\n",
              "   </g>\n",
              "   <g id=\"patch_65\">\n",
              "    <path d=\"M 266.537736 182.33689 \n",
              "L 337.603774 182.33689 \n",
              "\" style=\"fill: none; stroke: #000000; stroke-width: 0.8; stroke-linejoin: miter; stroke-linecap: square\"/>\n",
              "   </g>\n",
              "   <g id=\"patch_66\">\n",
              "    <path d=\"M 266.537736 111.270852 \n",
              "L 337.603774 111.270852 \n",
              "\" style=\"fill: none; stroke: #000000; stroke-width: 0.8; stroke-linejoin: miter; stroke-linecap: square\"/>\n",
              "   </g>\n",
              "   <g id=\"text_13\">\n",
              "    <!-- 9 -->\n",
              "    <g transform=\"translate(298.253255 105.270852)scale(0.12 -0.12)\">\n",
              "     <use xlink:href=\"#DejaVuSans-39\"/>\n",
              "    </g>\n",
              "   </g>\n",
              "  </g>\n",
              "  <g id=\"axes_14\">\n",
              "   <g id=\"patch_67\">\n",
              "    <path d=\"M 351.816981 182.33689 \n",
              "L 422.883019 182.33689 \n",
              "L 422.883019 111.270852 \n",
              "L 351.816981 111.270852 \n",
              "z\n",
              "\" style=\"fill: #ffffff\"/>\n",
              "   </g>\n",
              "   <g clip-path=\"url(#pcefdf206b8)\">\n",
              "    <image xlink:href=\"data:image/png;base64,\n",
              "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\" id=\"imaged5d1d4e930\" transform=\"scale(1 -1)translate(0 -72)\" x=\"351.816981\" y=\"-110.33689\" width=\"72\" height=\"72\"/>\n",
              "   </g>\n",
              "   <g id=\"patch_68\">\n",
              "    <path d=\"M 351.816981 182.33689 \n",
              "L 351.816981 111.270852 \n",
              "\" style=\"fill: none; stroke: #000000; stroke-width: 0.8; stroke-linejoin: miter; stroke-linecap: square\"/>\n",
              "   </g>\n",
              "   <g id=\"patch_69\">\n",
              "    <path d=\"M 422.883019 182.33689 \n",
              "L 422.883019 111.270852 \n",
              "\" style=\"fill: none; stroke: #000000; stroke-width: 0.8; stroke-linejoin: miter; stroke-linecap: square\"/>\n",
              "   </g>\n",
              "   <g id=\"patch_70\">\n",
              "    <path d=\"M 351.816981 182.33689 \n",
              "L 422.883019 182.33689 \n",
              "\" style=\"fill: none; stroke: #000000; stroke-width: 0.8; stroke-linejoin: miter; stroke-linecap: square\"/>\n",
              "   </g>\n",
              "   <g id=\"patch_71\">\n",
              "    <path d=\"M 351.816981 111.270852 \n",
              "L 422.883019 111.270852 \n",
              "\" style=\"fill: none; stroke: #000000; stroke-width: 0.8; stroke-linejoin: miter; stroke-linecap: square\"/>\n",
              "   </g>\n",
              "   <g id=\"text_14\">\n",
              "    <!-- 0 -->\n",
              "    <g transform=\"translate(383.5325 105.270852)scale(0.12 -0.12)\">\n",
              "     <use xlink:href=\"#DejaVuSans-30\"/>\n",
              "    </g>\n",
              "   </g>\n",
              "  </g>\n",
              "  <g id=\"axes_15\">\n",
              "   <g id=\"patch_72\">\n",
              "    <path d=\"M 437.096226 182.33689 \n",
              "L 508.162264 182.33689 \n",
              "L 508.162264 111.270852 \n",
              "L 437.096226 111.270852 \n",
              "z\n",
              "\" style=\"fill: #ffffff\"/>\n",
              "   </g>\n",
              "   <g clip-path=\"url(#p4becb5351b)\">\n",
              "    <image xlink:href=\"data:image/png;base64,\n",
              "iVBORw0KGgoAAAANSUhEUgAAAEgAAABICAYAAABV7bNHAAADTUlEQVR4nO3cP0wTYRjH8d/1WltoC7RAAAkS/IP8iTERTFRkMBpDHBgMiRGjUQcmB52NA4lxcHDSzYFBFyVBJ9RBNxNFiIoY/kgAwRoQWqBQyrV3rwOxQIo+mui9L/H5jG9C3idfjre9Sw7tmNYkwH7KIXsA1XEgAgcicCACByJwIAIHInAgglPWxg6PB47cIODUVxeXDZgzEYiEIWusNNICJfdX4lOzCxn5sdSaMeJHeVsYZt+ArLHSSAsULXWj9Ug7zmVNp9Yul9Wi98leOPtkTZVO2hkkNC1trSozhFCdG9FTB6DVVENzSvv9pcifYI2TviEUnm3DmJGP2x0nsH0wAyIalTqTUoHydC8avTHEMoZwqzABRzAHmr56kQsjAWtpCRD2PYBQKtAPLk1H075utF+rAZJFqfVgj46Ch/0wIxHbZlE20I2CN2hteJVas2ChJtCCwqc+4H8I5ImYuDtWj+HCQRz396LOs/7zwqXpcGn6ujVdt+wcEYDETzFv1yjc13PwvPUwLvU2Y1kkZI3yS9KuIHNyCo7JKfgDAUw07JQ1BonvxQgciMCBCByIsKkCCZF+//avKflFca3hxAKuTjTiw2QRnK/9EIshW/dXPlBXvAQD9ytQ2vkFYmEKZnjW1v2VD7RouZERtpAcGZOy/6Y6g2TgQAQOROBABA5E4EAEDkRQPlC+cx6RcgeSR2ugV++G5tpi6/7KBzrk+YYrpx9hz813GDwfhJ4bsHV/5b9J5+letGSHgOwQnpVVAG6+gpTCgQgciMCBCByIwIEIHIjAgQgciMCBCMrfanxNLuBO+CDezxXD+uiHiE/Zur/ygV7Gt+LxvXoUv5jDjnAI5kzY1v2VDzRrZsI/YUF09yEpYX8+gwgciKB8IH6iSOAnioQ83YsLWeNI+EfRua3K9ieKygfqM5bQ0n8Goc+5CPQ4IebHbd1f+UDd8RIYDwpQ2dEPYRgwYzH6h/4i5QMlhBOumLD19YO1lD+kZVMmkGnjGzx/QvqfmDAM5Lx1oTZ4ccN3MRYmfdg1Hpcw2QpN+n9/0TTowQA0vw/Y4C1EJJKwpmdgxeVEkn4FQYiVO3Sb79J/lzJnkKo4EIEDETgQgQMROBCBAxE4EOE7JHbtaZoCqgIAAAAASUVORK5CYII=\" id=\"image7b1a86a09b\" transform=\"scale(1 -1)translate(0 -72)\" x=\"437.096226\" y=\"-110.33689\" width=\"72\" height=\"72\"/>\n",
              "   </g>\n",
              "   <g id=\"patch_73\">\n",
              "    <path d=\"M 437.096226 182.33689 \n",
              "L 437.096226 111.270852 \n",
              "\" style=\"fill: none; stroke: #000000; stroke-width: 0.8; stroke-linejoin: miter; stroke-linecap: square\"/>\n",
              "   </g>\n",
              "   <g id=\"patch_74\">\n",
              "    <path d=\"M 508.162264 182.33689 \n",
              "L 508.162264 111.270852 \n",
              "\" style=\"fill: none; stroke: #000000; stroke-width: 0.8; stroke-linejoin: miter; stroke-linecap: square\"/>\n",
              "   </g>\n",
              "   <g id=\"patch_75\">\n",
              "    <path d=\"M 437.096226 182.33689 \n",
              "L 508.162264 182.33689 \n",
              "\" style=\"fill: none; stroke: #000000; stroke-width: 0.8; stroke-linejoin: miter; stroke-linecap: square\"/>\n",
              "   </g>\n",
              "   <g id=\"patch_76\">\n",
              "    <path d=\"M 437.096226 111.270852 \n",
              "L 508.162264 111.270852 \n",
              "\" style=\"fill: none; stroke: #000000; stroke-width: 0.8; stroke-linejoin: miter; stroke-linecap: square\"/>\n",
              "   </g>\n",
              "   <g id=\"text_15\">\n",
              "    <!-- 1 -->\n",
              "    <g transform=\"translate(468.811745 105.270852)scale(0.12 -0.12)\">\n",
              "     <use xlink:href=\"#DejaVuSans-31\"/>\n",
              "    </g>\n",
              "   </g>\n",
              "  </g>\n",
              "  <g id=\"axes_16\">\n",
              "   <g id=\"patch_77\">\n",
              "    <path d=\"M 522.375472 182.33689 \n",
              "L 593.441509 182.33689 \n",
              "L 593.441509 111.270852 \n",
              "L 522.375472 111.270852 \n",
              "z\n",
              "\" style=\"fill: #ffffff\"/>\n",
              "   </g>\n",
              "   <g clip-path=\"url(#p05e22a0160)\">\n",
              "    <image xlink:href=\"data:image/png;base64,\n",
              "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\" id=\"image3be790e861\" transform=\"scale(1 -1)translate(0 -72)\" x=\"522.375472\" y=\"-110.33689\" width=\"72\" height=\"72\"/>\n",
              "   </g>\n",
              "   <g id=\"patch_78\">\n",
              "    <path d=\"M 522.375472 182.33689 \n",
              "L 522.375472 111.270852 \n",
              "\" style=\"fill: none; stroke: #000000; stroke-width: 0.8; stroke-linejoin: miter; stroke-linecap: square\"/>\n",
              "   </g>\n",
              "   <g id=\"patch_79\">\n",
              "    <path d=\"M 593.441509 182.33689 \n",
              "L 593.441509 111.270852 \n",
              "\" style=\"fill: none; stroke: #000000; stroke-width: 0.8; stroke-linejoin: miter; stroke-linecap: square\"/>\n",
              "   </g>\n",
              "   <g id=\"patch_80\">\n",
              "    <path d=\"M 522.375472 182.33689 \n",
              "L 593.441509 182.33689 \n",
              "\" style=\"fill: none; stroke: #000000; stroke-width: 0.8; stroke-linejoin: miter; stroke-linecap: square\"/>\n",
              "   </g>\n",
              "   <g id=\"patch_81\">\n",
              "    <path d=\"M 522.375472 111.270852 \n",
              "L 593.441509 111.270852 \n",
              "\" style=\"fill: none; stroke: #000000; stroke-width: 0.8; stroke-linejoin: miter; stroke-linecap: square\"/>\n",
              "   </g>\n",
              "   <g id=\"text_16\">\n",
              "    <!-- 3 -->\n",
              "    <g transform=\"translate(554.090991 105.270852)scale(0.12 -0.12)\">\n",
              "     <defs>\n",
              "      <path id=\"DejaVuSans-33\" d=\"M 2597 2516 \n",
              "Q 3050 2419 3304 2112 \n",
              "Q 3559 1806 3559 1356 \n",
              "Q 3559 666 3084 287 \n",
              "Q 2609 -91 1734 -91 \n",
              "Q 1441 -91 1130 -33 \n",
              "Q 819 25 488 141 \n",
              "L 488 750 \n",
              "Q 750 597 1062 519 \n",
              "Q 1375 441 1716 441 \n",
              "Q 2309 441 2620 675 \n",
              "Q 2931 909 2931 1356 \n",
              "Q 2931 1769 2642 2001 \n",
              "Q 2353 2234 1838 2234 \n",
              "L 1294 2234 \n",
              "L 1294 2753 \n",
              "L 1863 2753 \n",
              "Q 2328 2753 2575 2939 \n",
              "Q 2822 3125 2822 3475 \n",
              "Q 2822 3834 2567 4026 \n",
              "Q 2313 4219 1838 4219 \n",
              "Q 1578 4219 1281 4162 \n",
              "Q 984 4106 628 3988 \n",
              "L 628 4550 \n",
              "Q 988 4650 1302 4700 \n",
              "Q 1616 4750 1894 4750 \n",
              "Q 2613 4750 3031 4423 \n",
              "Q 3450 4097 3450 3541 \n",
              "Q 3450 3153 3228 2886 \n",
              "Q 3006 2619 2597 2516 \n",
              "z\n",
              "\" transform=\"scale(0.015625)\"/>\n",
              "     </defs>\n",
              "     <use xlink:href=\"#DejaVuSans-33\"/>\n",
              "    </g>\n",
              "   </g>\n",
              "  </g>\n",
              "  <g id=\"axes_17\">\n",
              "   <g id=\"patch_82\">\n",
              "    <path d=\"M 607.654717 182.33689 \n",
              "L 678.720755 182.33689 \n",
              "L 678.720755 111.270852 \n",
              "L 607.654717 111.270852 \n",
              "z\n",
              "\" style=\"fill: #ffffff\"/>\n",
              "   </g>\n",
              "   <g clip-path=\"url(#p1a489f1c59)\">\n",
              "    <image xlink:href=\"data:image/png;base64,\n",
              "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\" id=\"imaged63a25cab2\" transform=\"scale(1 -1)translate(0 -72)\" x=\"607.654717\" y=\"-110.33689\" width=\"72\" height=\"72\"/>\n",
              "   </g>\n",
              "   <g id=\"patch_83\">\n",
              "    <path d=\"M 607.654717 182.33689 \n",
              "L 607.654717 111.270852 \n",
              "\" style=\"fill: none; stroke: #000000; stroke-width: 0.8; stroke-linejoin: miter; stroke-linecap: square\"/>\n",
              "   </g>\n",
              "   <g id=\"patch_84\">\n",
              "    <path d=\"M 678.720755 182.33689 \n",
              "L 678.720755 111.270852 \n",
              "\" style=\"fill: none; stroke: #000000; stroke-width: 0.8; stroke-linejoin: miter; stroke-linecap: square\"/>\n",
              "   </g>\n",
              "   <g id=\"patch_85\">\n",
              "    <path d=\"M 607.654717 182.33689 \n",
              "L 678.720755 182.33689 \n",
              "\" style=\"fill: none; stroke: #000000; stroke-width: 0.8; stroke-linejoin: miter; stroke-linecap: square\"/>\n",
              "   </g>\n",
              "   <g id=\"patch_86\">\n",
              "    <path d=\"M 607.654717 111.270852 \n",
              "L 678.720755 111.270852 \n",
              "\" style=\"fill: none; stroke: #000000; stroke-width: 0.8; stroke-linejoin: miter; stroke-linecap: square\"/>\n",
              "   </g>\n",
              "   <g id=\"text_17\">\n",
              "    <!-- 9 -->\n",
              "    <g transform=\"translate(639.370236 105.270852)scale(0.12 -0.12)\">\n",
              "     <use xlink:href=\"#DejaVuSans-39\"/>\n",
              "    </g>\n",
              "   </g>\n",
              "  </g>\n",
              "  <g id=\"axes_18\">\n",
              "   <g id=\"patch_87\">\n",
              "    <path d=\"M 692.933962 182.33689 \n",
              "L 764 182.33689 \n",
              "L 764 111.270852 \n",
              "L 692.933962 111.270852 \n",
              "z\n",
              "\" style=\"fill: #ffffff\"/>\n",
              "   </g>\n",
              "   <g clip-path=\"url(#p7cb070a2ad)\">\n",
              "    <image xlink:href=\"data:image/png;base64,\n",
              "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\" id=\"image85898aab9c\" transform=\"scale(1 -1)translate(0 -72)\" x=\"692.933962\" y=\"-110.33689\" width=\"72\" height=\"72\"/>\n",
              "   </g>\n",
              "   <g id=\"patch_88\">\n",
              "    <path d=\"M 692.933962 182.33689 \n",
              "L 692.933962 111.270852 \n",
              "\" style=\"fill: none; stroke: #000000; stroke-width: 0.8; stroke-linejoin: miter; stroke-linecap: square\"/>\n",
              "   </g>\n",
              "   <g id=\"patch_89\">\n",
              "    <path d=\"M 764 182.33689 \n",
              "L 764 111.270852 \n",
              "\" style=\"fill: none; stroke: #000000; stroke-width: 0.8; stroke-linejoin: miter; stroke-linecap: square\"/>\n",
              "   </g>\n",
              "   <g id=\"patch_90\">\n",
              "    <path d=\"M 692.933962 182.33689 \n",
              "L 764 182.33689 \n",
              "\" style=\"fill: none; stroke: #000000; stroke-width: 0.8; stroke-linejoin: miter; stroke-linecap: square\"/>\n",
              "   </g>\n",
              "   <g id=\"patch_91\">\n",
              "    <path d=\"M 692.933962 111.270852 \n",
              "L 764 111.270852 \n",
              "\" style=\"fill: none; stroke: #000000; stroke-width: 0.8; stroke-linejoin: miter; stroke-linecap: square\"/>\n",
              "   </g>\n",
              "   <g id=\"text_18\">\n",
              "    <!-- 7 -->\n",
              "    <g transform=\"translate(724.649481 105.270852)scale(0.12 -0.12)\">\n",
              "     <use xlink:href=\"#DejaVuSans-37\"/>\n",
              "    </g>\n",
              "   </g>\n",
              "  </g>\n",
              " </g>\n",
              " <defs>\n",
              "  <clipPath id=\"p914a1c34dd\">\n",
              "   <rect x=\"10.7\" y=\"22.318125\" width=\"71.066038\" height=\"71.066038\"/>\n",
              "  </clipPath>\n",
              "  <clipPath id=\"p1a08802229\">\n",
              "   <rect x=\"95.979245\" y=\"22.318125\" width=\"71.066038\" height=\"71.066038\"/>\n",
              "  </clipPath>\n",
              "  <clipPath id=\"p3083abed87\">\n",
              "   <rect x=\"181.258491\" y=\"22.318125\" width=\"71.066038\" height=\"71.066038\"/>\n",
              "  </clipPath>\n",
              "  <clipPath id=\"p44d5ee153f\">\n",
              "   <rect x=\"266.537736\" y=\"22.318125\" width=\"71.066038\" height=\"71.066038\"/>\n",
              "  </clipPath>\n",
              "  <clipPath id=\"p76fa488b73\">\n",
              "   <rect x=\"351.816981\" y=\"22.318125\" width=\"71.066038\" height=\"71.066038\"/>\n",
              "  </clipPath>\n",
              "  <clipPath id=\"p8f5841a1cb\">\n",
              "   <rect x=\"437.096226\" y=\"22.318125\" width=\"71.066038\" height=\"71.066038\"/>\n",
              "  </clipPath>\n",
              "  <clipPath id=\"p820f6644d7\">\n",
              "   <rect x=\"522.375472\" y=\"22.318125\" width=\"71.066038\" height=\"71.066038\"/>\n",
              "  </clipPath>\n",
              "  <clipPath id=\"p00986a4813\">\n",
              "   <rect x=\"607.654717\" y=\"22.318125\" width=\"71.066038\" height=\"71.066038\"/>\n",
              "  </clipPath>\n",
              "  <clipPath id=\"p6e0d11b417\">\n",
              "   <rect x=\"692.933962\" y=\"22.318125\" width=\"71.066038\" height=\"71.066038\"/>\n",
              "  </clipPath>\n",
              "  <clipPath id=\"p114ec20673\">\n",
              "   <rect x=\"10.7\" y=\"111.270852\" width=\"71.066038\" height=\"71.066038\"/>\n",
              "  </clipPath>\n",
              "  <clipPath id=\"pf3749df6f1\">\n",
              "   <rect x=\"95.979245\" y=\"111.270852\" width=\"71.066038\" height=\"71.066038\"/>\n",
              "  </clipPath>\n",
              "  <clipPath id=\"pbd801aaab0\">\n",
              "   <rect x=\"181.258491\" y=\"111.270852\" width=\"71.066038\" height=\"71.066038\"/>\n",
              "  </clipPath>\n",
              "  <clipPath id=\"p57386bfa87\">\n",
              "   <rect x=\"266.537736\" y=\"111.270852\" width=\"71.066038\" height=\"71.066038\"/>\n",
              "  </clipPath>\n",
              "  <clipPath id=\"pcefdf206b8\">\n",
              "   <rect x=\"351.816981\" y=\"111.270852\" width=\"71.066038\" height=\"71.066038\"/>\n",
              "  </clipPath>\n",
              "  <clipPath id=\"p4becb5351b\">\n",
              "   <rect x=\"437.096226\" y=\"111.270852\" width=\"71.066038\" height=\"71.066038\"/>\n",
              "  </clipPath>\n",
              "  <clipPath id=\"p05e22a0160\">\n",
              "   <rect x=\"522.375472\" y=\"111.270852\" width=\"71.066038\" height=\"71.066038\"/>\n",
              "  </clipPath>\n",
              "  <clipPath id=\"p1a489f1c59\">\n",
              "   <rect x=\"607.654717\" y=\"111.270852\" width=\"71.066038\" height=\"71.066038\"/>\n",
              "  </clipPath>\n",
              "  <clipPath id=\"p7cb070a2ad\">\n",
              "   <rect x=\"692.933962\" y=\"111.270852\" width=\"71.066038\" height=\"71.066038\"/>\n",
              "  </clipPath>\n",
              " </defs>\n",
              "</svg>\n"
            ],
            "text/plain": [
              "<Figure size 972x216 with 18 Axes>"
            ]
          },
          "metadata": {
            "needs_background": "light"
          },
          "output_type": "display_data"
        }
      ],
      "source": [
        "def predict(X):\n",
        "    return [bayes_pred_stable(x).argmax(dim=0).type(torch.int32).item()\n",
        "            for x in X]\n",
        "\n",
        "X = torch.stack([mnist_test[i][0] for i in range(18)], dim=0)\n",
        "y = torch.tensor([mnist_test[i][1] for i in range(18)])\n",
        "preds = predict(X)\n",
        "d2l.show_images(X, 2, 9, titles=[str(d) for d in preds]);"
      ]
    },
    {
      "cell_type": "markdown",
      "metadata": {
        "origin_pos": 52,
        "id": "lGK1wD6Gy9LL"
      },
      "source": [
        "Finally, let us compute the overall accuracy of the classifier.\n"
      ]
    },
    {
      "cell_type": "code",
      "execution_count": null,
      "metadata": {
        "origin_pos": 54,
        "tab": [
          "pytorch"
        ],
        "id": "89YoMHNCy9LL",
        "outputId": "5c2c3b9d-9e47-4348-9e85-afc6af8ad892"
      },
      "outputs": [
        {
          "data": {
            "text/plain": [
              "0.8426"
            ]
          },
          "execution_count": 15,
          "metadata": {},
          "output_type": "execute_result"
        }
      ],
      "source": [
        "X = torch.stack([mnist_test[i][0] for i in range(len(mnist_test))], dim=0)\n",
        "y = torch.tensor([mnist_test[i][1] for i in range(len(mnist_test))])\n",
        "preds = torch.tensor(predict(X), dtype=torch.int32)\n",
        "float((preds == y).sum()) / len(y)  # Validation accuracy"
      ]
    },
    {
      "cell_type": "markdown",
      "metadata": {
        "origin_pos": 56,
        "id": "BXqZVyjFy9LM"
      },
      "source": [
        "Modern deep networks achieve error rates of less than $0.01$. The relatively poor performance is due to the incorrect statistical assumptions that we made in our model: we assumed that each and every pixel are *independently* generated, depending only on the label. This is clearly not how humans write digits, and this wrong assumption led to the downfall of our overly naive (Bayes) classifier.\n",
        "\n",
        "## Summary\n",
        "* Using Bayes' rule, a classifier can be made by assuming all observed features are independent.  \n",
        "* This classifier can be trained on a dataset by counting the number of occurrences of combinations of labels and pixel values.\n",
        "* This classifier was the gold standard for decades for tasks such as spam detection.\n",
        "\n",
        "## Exercises\n",
        "1. Consider the dataset $[[0,0], [0,1], [1,0], [1,1]]$ with labels given by the XOR of the two elements $[0,1,1,0]$.  What are the probabilities for a Naive Bayes classifier built on this dataset.  Does it successfully classify our points?  If not, what assumptions are violated?\n",
        "1. Suppose that we did not use Laplace smoothing when estimating probabilities and a data example arrived at testing time which contained a value never observed in training.  What would the model output?\n",
        "1. The naive Bayes classifier is a specific example of a Bayesian network, where the dependence of random variables are encoded with a graph structure.  While the full theory is beyond the scope of this section (see :cite:`Koller.Friedman.2009` for full details), explain why allowing explicit dependence between the two input variables in the XOR model allows for the creation of a successful classifier.\n"
      ]
    },
    {
      "cell_type": "markdown",
      "metadata": {
        "origin_pos": 58,
        "tab": [
          "pytorch"
        ],
        "id": "uPhun-wfy9LM"
      },
      "source": [
        "[Discussions](https://discuss.d2l.ai/t/1100)\n"
      ]
    }
  ],
  "metadata": {
    "kernelspec": {
      "display_name": "Python 3",
      "name": "python3"
    },
    "language_info": {
      "name": "python"
    },
    "colab": {
      "name": "Copy of naive-bayes.ipynb",
      "provenance": [],
      "include_colab_link": true
    }
  },
  "nbformat": 4,
  "nbformat_minor": 0
}